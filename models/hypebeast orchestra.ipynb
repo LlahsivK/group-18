{
 "cells": [
  {
   "cell_type": "markdown",
   "id": "searching-ending",
   "metadata": {},
   "source": [
    "# 1.) Data preprocessing"
   ]
  },
  {
   "cell_type": "code",
   "execution_count": 1,
   "id": "sought-singing",
   "metadata": {},
   "outputs": [],
   "source": [
    "import pandas as pd\n",
    "import numpy as np\n",
    "from glob import glob\n",
    "import requests\n",
    "import json\n",
    "import seaborn as sns\n",
    "import re\n",
    "from datetime import datetime\n",
    "from datetime import date\n",
    "from pprint import pprint"
   ]
  },
  {
   "cell_type": "code",
   "execution_count": 2,
   "id": "primary-microphone",
   "metadata": {},
   "outputs": [],
   "source": [
    "#Ceilometer data\n",
    "def parse_CL(site):\n",
    "    df = pd.concat([pd.read_csv(file) for file in glob(f'Ceilometer/*{site}.csv')])\n",
    "\n",
    "    # replace -999 to NaN\n",
    "    df = df.replace(-999, np.nan)\n",
    "\n",
    "    # parse date string\n",
    "    df['# Time'] = pd.to_datetime(df['# Time'], format='%d/%m/%Y %H:%M:%S')\n",
    "    \n",
    "    # interpolate bl_height by time\n",
    "    df['revised_bl_height'] = df.set_index('# Time')['bl_height'].interpolate(method='time').values\n",
    "\n",
    "    # aggregate bl_height by hourly average\n",
    "    df = df.groupby([\n",
    "        df['# Time'].dt.strftime('%Y-%m-%d').rename('Date'), \n",
    "        df['# Time'].dt.hour.rename('Hour')\n",
    "    ])['revised_bl_height'].mean().reset_index(name='CL_BLH').set_index(['Date', 'Hour'])\n",
    "\n",
    "    return df\n",
    "\n",
    "#CTM model data\n",
    "def parse_CTM(site, time_offset=10):\n",
    "    # Careful! The seperator is not ',' but ', ' (space)\n",
    "    df = pd.concat([pd.read_csv(file, sep=r'\\s*,\\s*', engine='python') for file in glob(f'CTM_ModelOutput/*{site}.csv')])\n",
    "\n",
    "    # parse date string\n",
    "    from datetime import timedelta\n",
    "    df['Time'] = pd.to_datetime(df[['date', 'time']].astype(str).apply('-'.join, 1), format='%Y%m%d-%H') + timedelta(hours=time_offset)\n",
    "\n",
    "    df = df.groupby([\n",
    "        df['Time'].dt.strftime('%Y-%m-%d').rename('Date'), \n",
    "        df['Time'].dt.hour.rename('Hour')\n",
    "    ])['mixing_height'].mean().reset_index(name='CTM_BLH').set_index(['Date', 'Hour'])\n",
    "\n",
    "    return df"
   ]
  },
  {
   "cell_type": "code",
   "execution_count": 3,
   "id": "stuffed-illustration",
   "metadata": {},
   "outputs": [],
   "source": [
    "#WRF model data\n",
    "\n",
    "data_path = \"C:/Users/vichu/Downloads/90106\"\n",
    "\n",
    "wrf_data_path = \"//WRF_PBLH\"\n",
    "\n",
    "wrf_data_fn_merriwa = ['PBLH_series329_20210212', 'PBLH_series329_20210213',\n",
    "                       'PBLH_series329_20210214','PBLH_series329_20210215',\n",
    "                       'PBLH_series329_20210216','PBLH_series329_20210217',\n",
    "                      'PBLH_series329_20210218']\n",
    "\n",
    "#Use RE\n",
    "wrf_data_fn_lidcombe = [re.sub('series329', 'series2141',data) for data in wrf_data_fn_merriwa]\n",
    "\n",
    "wrf_full_file_path_merriwa = [data_path+wrf_data_path+'\\\\'+path+'.txt' for path in wrf_data_fn_merriwa]\n",
    "wrf_full_file_path_lidcombe = [data_path+wrf_data_path+'\\\\'+path+'.txt' for path in wrf_data_fn_lidcombe]\n",
    "\n",
    "#Initialise a Dataframe with first table\n",
    "wrf_df_merriwa = pd.read_csv(wrf_full_file_path_merriwa[0], header = None, delimiter = r'\\s+')\n",
    "wrf_df_lidcombe = pd.read_csv(wrf_full_file_path_lidcombe[0], header = None, delimiter = r'\\s+')\n",
    "\n",
    "#Loop through the rest of the data and append. Note both data is same length\n",
    "for i in range(1,len(wrf_full_file_path_merriwa)):\n",
    "    wrf_df_merriwa = wrf_df_merriwa.append(pd.read_csv(wrf_full_file_path_merriwa[i], header = None, delimiter = r'\\s+') , ignore_index = True)\n",
    "    wrf_df_lidcombe = wrf_df_lidcombe.append(pd.read_csv(wrf_full_file_path_lidcombe[i], header=None, delimiter = r'\\s+'),  ignore_index = True)\n",
    "    \n",
    "wrf_df_merriwa = wrf_df_merriwa.rename(columns = {0:'datetime', 1:'WRF PBLH'})\n",
    "wrf_df_lidcombe = wrf_df_lidcombe.rename(columns = {0:'datetime', 1:'WRF PBLH'})\n",
    "\n",
    "\n",
    "wrf_df_merriwa['date'] = wrf_df_merriwa.datetime.str[:10]\n",
    "wrf_df_merriwa['time'] = wrf_df_merriwa.datetime.str[11:13].astype(int)\n",
    "\n",
    "wrf_df_lidcombe['date'] = wrf_df_lidcombe.datetime.str[:10] \n",
    "wrf_df_lidcombe['time'] = wrf_df_lidcombe.datetime.str[11:13].astype(int)\n",
    "\n"
   ]
  },
  {
   "cell_type": "code",
   "execution_count": 4,
   "id": "comprehensive-marking",
   "metadata": {},
   "outputs": [],
   "source": [
    "#Converting UTC to AEST\n",
    "\n",
    "def convert_df_to_datetime_wrf(df):\n",
    "    df['time_AEST'] = (df['time'] + 10) % 24\n",
    "\n",
    "    #Loop through and convert date to proper date\n",
    "    length_data = len(df)\n",
    "\n",
    "    #Defined new columns\n",
    "    df['date_proper'] = 0\n",
    "    df['datetime'] = ''\n",
    "\n",
    "    #Sets the date based on change of time and creates a datetime stamp\n",
    "    #Very clunky but it works\n",
    "    for i in range(length_data):\n",
    "        date_1 = str(df.loc[i,'date'])\n",
    "\n",
    "        year_date_1 = date_1[:4]\n",
    "        month_date_1 = date_1[5:7]\n",
    "        day_date_1 = int(date_1[8::])\n",
    "\n",
    "        if i > 1:\n",
    "            #This means the day has changed\n",
    "            if (df.loc[i,'time_AEST'] < df.loc[i-1,'time_AEST']):\n",
    "                day_date_1 += 1\n",
    "\n",
    "        df.loc[i, 'date_proper'] = date(int(year_date_1), int(month_date_1), day_date_1)\n",
    "\n",
    "        #Days are monotonic\n",
    "        if i > 1:\n",
    "            if (df.loc[i,'date_proper'] < df.loc[i-1,'date_proper']):\n",
    "                df.loc[i,'date_proper'] = df.loc[i-1,'date_proper']\n",
    "\n",
    "        date_proper_1 = str(df.loc[i,'date_proper'])\n",
    "        time_1 = str(df.loc[i, 'time_AEST'])\n",
    "\n",
    "        datetime_str = date_proper_1 + \" \" + time_1\n",
    "        df.loc[i, 'datetime'] = datetime.strptime(datetime_str, '%Y-%m-%d %H')\n",
    "\n",
    "    df = df[~df.index.duplicated(keep = 'first')]\n",
    "    \n",
    "    df['datetime'] = pd.to_datetime(df['datetime'], format = '%Y-%m-%d %H')\n",
    "    #Set index to datetime\n",
    "    df = df.groupby([\n",
    "        df['datetime'].dt.strftime('%Y-%m-%d').rename('Date'), \n",
    "        df['datetime'].dt.hour.rename('Hour')\n",
    "    ])['WRF PBLH'].mean().reset_index(name='WRF_BLH').set_index(['Date', 'Hour'])\n",
    "\n",
    "    \n",
    "    return df"
   ]
  },
  {
   "cell_type": "code",
   "execution_count": 5,
   "id": "congressional-thriller",
   "metadata": {},
   "outputs": [],
   "source": [
    "wrf_df_merriwa = convert_df_to_datetime_wrf(wrf_df_merriwa)\n",
    "wrf_df_lidcombe = convert_df_to_datetime_wrf(wrf_df_lidcombe)"
   ]
  },
  {
   "cell_type": "code",
   "execution_count": 6,
   "id": "advised-defense",
   "metadata": {},
   "outputs": [],
   "source": [
    "#Combining WRF with CL and CTM model data\n",
    "\n",
    "import matplotlib.pyplot as plt\n",
    "%matplotlib inline\n",
    "\n",
    "def join_CL_CTM_WRF(site, wrf_df):\n",
    "    CLdf = parse_CL(site)\n",
    "    CTMdf = parse_CTM(site)\n",
    "    WRFdf = wrf_df.copy(deep = True)\n",
    "    \n",
    "    df_joined = CLdf.join(CTMdf, how='inner')\n",
    "    \n",
    "    df_joined = df_joined.join(WRFdf, how = 'inner')\n",
    "    return df_joined\n",
    "\n",
    "def bl_plot(site, wrf_df):\n",
    "    join_df = join_CL_CTM_WRF(site, wrf_df).reset_index()\n",
    "    join_df['Time'] = pd.to_datetime(join_df[['Date', 'Hour']].astype(str).apply('-'.join, 1), format='%Y-%m-%d-%H')\n",
    "    join_df.plot(x='Time', y=['CL_BLH', 'CTM_BLH', 'WRF_BLH'], title=site)\n",
    "    plt.show()"
   ]
  },
  {
   "cell_type": "code",
   "execution_count": 7,
   "id": "administrative-gateway",
   "metadata": {},
   "outputs": [
    {
     "data": {
      "image/png": "[encoded data removed]",
      "text/plain": [
       "<Figure size 432x288 with 1 Axes>"
      ]
     },
     "metadata": {
      "needs_background": "light"
     },
     "output_type": "display_data"
    },
    {
     "data": {
      "image/png": "[encoded data removed]",
      "text/plain": [
       "<Figure size 432x288 with 1 Axes>"
      ]
     },
     "metadata": {
      "needs_background": "light"
     },
     "output_type": "display_data"
    }
   ],
   "source": [
    "#Plots of Lidcombe and Merriwa BL heights\n",
    "bl_plot('Merriwa', wrf_df_merriwa)\n",
    "bl_plot('Lidcombe', wrf_df_lidcombe)"
   ]
  },
  {
   "cell_type": "markdown",
   "id": "romantic-strengthening",
   "metadata": {},
   "source": [
    "### 1.1 Scraping of air quality data"
   ]
  },
  {
   "cell_type": "code",
   "execution_count": 8,
   "id": "clean-cuisine",
   "metadata": {},
   "outputs": [],
   "source": [
    "class AQMS_API:\n",
    "    def __init__(self):\n",
    "        self.url_prefix = 'https://data.airquality.nsw.gov.au/api/Data/'\n",
    "        self.headers = {\n",
    "            'content-type': 'application/json',\n",
    "            'accept': 'application/json',\n",
    "        }\n",
    "        \n",
    "        self.site_url = 'get_SiteDetails'\n",
    "        self.parameter_url = 'get_ParameterDetails'\n",
    "        self.observation_url = 'get_Observations'\n",
    "        \n",
    "    def get_data(self, url_suffix, http_method=requests.get, data=None):\n",
    "        query = self.url_prefix + url_suffix\n",
    "        response = http_method(url=query, headers=self.headers, json=data)\n",
    "        return response.json()\n",
    "    \n",
    "    def get_sites(self):\n",
    "        return self.get_data(self.site_url)\n",
    "    \n",
    "    def get_parameters(self):\n",
    "        return self.get_data(self.parameter_url)\n",
    "    \n",
    "    def get_observations(self, data=None):\n",
    "        return self.get_data(self.observation_url, requests.post, data)\n",
    "\n",
    "# historical observation query builder\n",
    "def obs_builder(parameter=None, sites=None, start=None, end=None, category=None, sub_category=None, freq=None):\n",
    "    '''\n",
    "    start & end : '%Y-%m-%d' format date string\n",
    "    '''\n",
    "    def list_parser(s):\n",
    "        if s is None or isinstance(s, list):\n",
    "            return s\n",
    "        else:\n",
    "            return [s]\n",
    "\n",
    "    return {\n",
    "        'Parameters': list_parser(parameter),\n",
    "        'Sites': list_parser(sites),\n",
    "        'StartDate': start,\n",
    "        'EndDate': end,\n",
    "        'Categories': list_parser(category),\n",
    "        'SubCategories': list_parser(sub_category),\n",
    "        'Frequency': list_parser(freq),\n",
    "    }"
   ]
  },
  {
   "cell_type": "code",
   "execution_count": 9,
   "id": "behavioral-preference",
   "metadata": {},
   "outputs": [],
   "source": [
    "api = AQMS_API()\n",
    "\n",
    "# site id\n",
    "sites = {\n",
    "    'Merriwa': 329,\n",
    "    'Lidcombe': 1141,\n",
    "}"
   ]
  },
  {
   "cell_type": "code",
   "execution_count": 10,
   "id": "neural-terrorism",
   "metadata": {},
   "outputs": [],
   "source": [
    "\n",
    "df = pd.DataFrame.from_records(api.get_parameters())\n",
    "params = df.loc[\n",
    "    (df['Category'] == 'Averages') & \n",
    "    (df['SubCategory'] == 'Hourly') & \n",
    "    (df['Frequency'] == 'Hourly average')\n",
    "]"
   ]
  },
  {
   "cell_type": "code",
   "execution_count": 11,
   "id": "finished-crawford",
   "metadata": {},
   "outputs": [],
   "source": [
    "def bl_external(site, site_id):\n",
    "    query = obs_builder(\n",
    "        params['ParameterCode'].tolist(), \n",
    "        site_id, \n",
    "        '2021-02-12',\n",
    "        '2021-02-20',\n",
    "        'Averages', \n",
    "        'Hourly', \n",
    "        'Hourly average'\n",
    "    )\n",
    "    obs = pd.DataFrame.from_records(api.get_observations(query))\n",
    "    obs['Hour'] = obs['Hour'] - 1\n",
    "    obs['Parameter'] = pd.json_normalize(obs['Parameter'])['ParameterDescription']\n",
    "    obs = pd.pivot(obs, index=['Date', 'Hour'], columns='Parameter', values='Value').reset_index()\n",
    "    \n",
    "    if site == 'Merriwa':\n",
    "        wrf_df = wrf_df_merriwa\n",
    "    else:\n",
    "        wrf_df = wrf_df_lidcombe\n",
    "    \n",
    "    df = join_CL_CTM_WRF(site, wrf_df).join(obs.set_index(['Date', 'Hour']), how='inner').reset_index()\n",
    "    df['BL_diff'] =df['CL_BLH'] - df['CTM_BLH'] \n",
    "    return df"
   ]
  },
  {
   "cell_type": "code",
   "execution_count": 12,
   "id": "binding-windsor",
   "metadata": {},
   "outputs": [],
   "source": [
    "#Consolidating all the data in a dict\n",
    "data = {site: bl_external(site, id) for site, id in sites.items()}"
   ]
  },
  {
   "cell_type": "markdown",
   "id": "expanded-static",
   "metadata": {},
   "source": [
    "# 2.) Correlation analysis and statistical metrics"
   ]
  },
  {
   "cell_type": "markdown",
   "id": "convinced-michael",
   "metadata": {},
   "source": [
    "### 2.1 Correlation analysis"
   ]
  },
  {
   "cell_type": "code",
   "execution_count": 13,
   "id": "alpine-neighborhood",
   "metadata": {},
   "outputs": [],
   "source": [
    "#Calculating correlation and p-values for the features w.r.t the BL height\n",
    "\n",
    "def get_df(site):\n",
    "    if site == 'all':\n",
    "        df = pd.concat(data.values()).drop(columns='Solar radiation')\n",
    "    else:\n",
    "        df = data[site]\n",
    "    return df.dropna().set_index(['Date', 'Hour'])\n",
    "\n",
    "def corr(site, method='pearson'):\n",
    "    return get_df(site).corr(method=method)\n",
    "\n",
    "from scipy.stats import pearsonr\n",
    "\n",
    "def p_value(site):\n",
    "    df = get_df(site)._get_numeric_data()\n",
    "    dfcols = pd.DataFrame(columns=df.columns)\n",
    "    pvalues = dfcols.transpose().join(dfcols, how='outer')\n",
    "    for r in df.columns:\n",
    "        for c in df.columns:\n",
    "            pvalues[r][c] = round(pearsonr(df[r], df[c])[1], 6)\n",
    "    return pvalues"
   ]
  },
  {
   "cell_type": "code",
   "execution_count": 14,
   "id": "random-writer",
   "metadata": {
    "scrolled": true
   },
   "outputs": [
    {
     "data": {
      "text/plain": [
       "\"\\ncorr('all', 'pearson').iloc[:, :3]\\np_value('all').iloc[:, :3]\\ncorr('Lidcombe', 'pearson').iloc[:, :3]\\np_value('Lidcombe').iloc[:, :3]\\ncorr('Merriwa', 'pearson').iloc[:, :3]\\np_value('Merriwa').iloc[:, :3]\\n\""
      ]
     },
     "execution_count": 14,
     "metadata": {},
     "output_type": "execute_result"
    }
   ],
   "source": [
    "#Correlation and p values for Lidcombe and Merriwa\n",
    "\n",
    "'''\n",
    "corr('all', 'pearson').iloc[:, :3]\n",
    "p_value('all').iloc[:, :3]\n",
    "corr('Lidcombe', 'pearson').iloc[:, :3]\n",
    "p_value('Lidcombe').iloc[:, :3]\n",
    "corr('Merriwa', 'pearson').iloc[:, :3]\n",
    "p_value('Merriwa').iloc[:, :3]\n",
    "'''"
   ]
  },
  {
   "cell_type": "markdown",
   "id": "nutritional-acoustic",
   "metadata": {},
   "source": [
    "### 2.2 Statistical metrics"
   ]
  },
  {
   "cell_type": "code",
   "execution_count": 15,
   "id": "stainless-division",
   "metadata": {},
   "outputs": [],
   "source": [
    "#Get data from dict\n",
    "df_merriwa = data['Merriwa']\n",
    "df_lidcombe = data['Lidcombe']\n",
    "\n",
    "#checking everything in place"
   ]
  },
  {
   "cell_type": "code",
   "execution_count": 16,
   "id": "beneficial-round",
   "metadata": {},
   "outputs": [],
   "source": [
    "#Interpolating missing values by time\n",
    "def interpolate_external_factors(df):\n",
    "\n",
    "    df['datetime'] = pd.to_datetime(df['Date'] +' '+ df['Hour'].astype(str)+':00', format = '%Y-%m-%d %H:%M')\n",
    "\n",
    "    feature_list_all = [feature for feature in df.columns][4:len(df.columns)-2]\n",
    "\n",
    "    for feature in feature_list_all:\n",
    "        df[feature] = df.set_index('datetime')[feature].interpolate(method='time').values\n",
    "        \n",
    "    return df"
   ]
  },
  {
   "cell_type": "code",
   "execution_count": 17,
   "id": "urban-hormone",
   "metadata": {},
   "outputs": [],
   "source": [
    "df_merriwa_filled = interpolate_external_factors(df_merriwa)\n",
    "df_lidcombe_filled = interpolate_external_factors(df_lidcombe)"
   ]
  },
  {
   "cell_type": "code",
   "execution_count": 18,
   "id": "textile-surprise",
   "metadata": {},
   "outputs": [],
   "source": [
    "#Creates functions with lags and differences up to d\n",
    "def create_data_lags(df, d):\n",
    "    \n",
    "    df_func = df.copy(deep = True)\n",
    "\n",
    "    for i in range(d):\n",
    "        col_name = 'CL_BLH_lag'+str(i+1)\n",
    "        df_func[col_name] = df_func['CL_BLH'].shift(i+1)\n",
    "\n",
    "    for i in range(d):\n",
    "        col_name = 'temp'+str(i+1)\n",
    "        df_func[col_name] = df_func['CL_BLH'].diff(periods = i+1)\n",
    "  \n",
    "    for i in range(d):\n",
    "        col_name = 'CL_BLH_diff' + str(i+1)\n",
    "        target_col = 'temp'+str(i+1)\n",
    "        df_func[col_name] = df_func[target_col].shift(1)\n",
    "        \n",
    "    for i in range(d-1):\n",
    "        col_name = 'CL_BLH_roll_mean' + str(i+1)\n",
    "        df_func[col_name] = df_func['CL_BLH'].rolling(i+2).mean().shift(1)\n",
    "    \n",
    "    \n",
    "    to_drop_list = ['temp1','temp2','temp3','temp4','temp5']\n",
    "        \n",
    "    df_func = df_func.drop(to_drop_list, axis = 1)\n",
    "        \n",
    "    return df_func"
   ]
  },
  {
   "cell_type": "code",
   "execution_count": 19,
   "id": "unauthorized-creek",
   "metadata": {},
   "outputs": [],
   "source": [
    "df_merriwa_wlags = create_data_lags(df_merriwa_filled, 5)\n",
    "df_lidcombe_wlags = create_data_lags(df_lidcombe_filled, 5)"
   ]
  },
  {
   "cell_type": "code",
   "execution_count": 20,
   "id": "occupational-nightmare",
   "metadata": {},
   "outputs": [
    {
     "data": {
      "text/html": [
       "<div>\n",
       "<style scoped>\n",
       "    .dataframe tbody tr th:only-of-type {\n",
       "        vertical-align: middle;\n",
       "    }\n",
       "\n",
       "    .dataframe tbody tr th {\n",
       "        vertical-align: top;\n",
       "    }\n",
       "\n",
       "    .dataframe thead th {\n",
       "        text-align: right;\n",
       "    }\n",
       "</style>\n",
       "<table border=\"1\" class=\"dataframe\">\n",
       "  <thead>\n",
       "    <tr style=\"text-align: right;\">\n",
       "      <th></th>\n",
       "      <th>Date</th>\n",
       "      <th>Hour</th>\n",
       "      <th>CL_BLH</th>\n",
       "      <th>CTM_BLH</th>\n",
       "      <th>WRF_BLH</th>\n",
       "      <th>Carbon monoxide</th>\n",
       "      <th>Humidity</th>\n",
       "      <th>Nephelometer</th>\n",
       "      <th>Nitric Oxide</th>\n",
       "      <th>Nitrogen Dioxide</th>\n",
       "      <th>...</th>\n",
       "      <th>CL_BLH_lag5</th>\n",
       "      <th>CL_BLH_diff1</th>\n",
       "      <th>CL_BLH_diff2</th>\n",
       "      <th>CL_BLH_diff3</th>\n",
       "      <th>CL_BLH_diff4</th>\n",
       "      <th>CL_BLH_diff5</th>\n",
       "      <th>CL_BLH_roll_mean1</th>\n",
       "      <th>CL_BLH_roll_mean2</th>\n",
       "      <th>CL_BLH_roll_mean3</th>\n",
       "      <th>CL_BLH_roll_mean4</th>\n",
       "    </tr>\n",
       "  </thead>\n",
       "  <tbody>\n",
       "    <tr>\n",
       "      <th>0</th>\n",
       "      <td>2021-02-12</td>\n",
       "      <td>11</td>\n",
       "      <td>1782.971698</td>\n",
       "      <td>2116.5154</td>\n",
       "      <td>918.04</td>\n",
       "      <td>-0.013024</td>\n",
       "      <td>47.927</td>\n",
       "      <td>0.042</td>\n",
       "      <td>-0.023461</td>\n",
       "      <td>0.069158</td>\n",
       "      <td>...</td>\n",
       "      <td>NaN</td>\n",
       "      <td>NaN</td>\n",
       "      <td>NaN</td>\n",
       "      <td>NaN</td>\n",
       "      <td>NaN</td>\n",
       "      <td>NaN</td>\n",
       "      <td>NaN</td>\n",
       "      <td>NaN</td>\n",
       "      <td>NaN</td>\n",
       "      <td>NaN</td>\n",
       "    </tr>\n",
       "    <tr>\n",
       "      <th>1</th>\n",
       "      <td>2021-02-12</td>\n",
       "      <td>12</td>\n",
       "      <td>2060.904255</td>\n",
       "      <td>2268.4509</td>\n",
       "      <td>1629.29</td>\n",
       "      <td>-0.003834</td>\n",
       "      <td>46.820</td>\n",
       "      <td>0.051</td>\n",
       "      <td>-0.015987</td>\n",
       "      <td>0.076345</td>\n",
       "      <td>...</td>\n",
       "      <td>NaN</td>\n",
       "      <td>NaN</td>\n",
       "      <td>NaN</td>\n",
       "      <td>NaN</td>\n",
       "      <td>NaN</td>\n",
       "      <td>NaN</td>\n",
       "      <td>NaN</td>\n",
       "      <td>NaN</td>\n",
       "      <td>NaN</td>\n",
       "      <td>NaN</td>\n",
       "    </tr>\n",
       "    <tr>\n",
       "      <th>2</th>\n",
       "      <td>2021-02-12</td>\n",
       "      <td>13</td>\n",
       "      <td>1942.894737</td>\n",
       "      <td>2332.6211</td>\n",
       "      <td>2124.96</td>\n",
       "      <td>-0.004704</td>\n",
       "      <td>45.996</td>\n",
       "      <td>0.058</td>\n",
       "      <td>-0.011745</td>\n",
       "      <td>0.066663</td>\n",
       "      <td>...</td>\n",
       "      <td>NaN</td>\n",
       "      <td>277.932557</td>\n",
       "      <td>NaN</td>\n",
       "      <td>NaN</td>\n",
       "      <td>NaN</td>\n",
       "      <td>NaN</td>\n",
       "      <td>1921.937977</td>\n",
       "      <td>NaN</td>\n",
       "      <td>NaN</td>\n",
       "      <td>NaN</td>\n",
       "    </tr>\n",
       "    <tr>\n",
       "      <th>3</th>\n",
       "      <td>2021-02-12</td>\n",
       "      <td>14</td>\n",
       "      <td>1684.731183</td>\n",
       "      <td>2376.4629</td>\n",
       "      <td>2726.00</td>\n",
       "      <td>-0.003592</td>\n",
       "      <td>44.181</td>\n",
       "      <td>0.060</td>\n",
       "      <td>-0.026188</td>\n",
       "      <td>0.057879</td>\n",
       "      <td>...</td>\n",
       "      <td>NaN</td>\n",
       "      <td>-118.009518</td>\n",
       "      <td>159.923039</td>\n",
       "      <td>NaN</td>\n",
       "      <td>NaN</td>\n",
       "      <td>NaN</td>\n",
       "      <td>2001.899496</td>\n",
       "      <td>1928.923563</td>\n",
       "      <td>NaN</td>\n",
       "      <td>NaN</td>\n",
       "    </tr>\n",
       "    <tr>\n",
       "      <th>4</th>\n",
       "      <td>2021-02-12</td>\n",
       "      <td>15</td>\n",
       "      <td>1573.967391</td>\n",
       "      <td>2432.8503</td>\n",
       "      <td>2727.78</td>\n",
       "      <td>-0.002880</td>\n",
       "      <td>43.716</td>\n",
       "      <td>0.065</td>\n",
       "      <td>-0.021037</td>\n",
       "      <td>0.052190</td>\n",
       "      <td>...</td>\n",
       "      <td>NaN</td>\n",
       "      <td>-258.163554</td>\n",
       "      <td>-376.173073</td>\n",
       "      <td>-98.240515</td>\n",
       "      <td>NaN</td>\n",
       "      <td>NaN</td>\n",
       "      <td>1813.812960</td>\n",
       "      <td>1896.176725</td>\n",
       "      <td>1867.875468</td>\n",
       "      <td>NaN</td>\n",
       "    </tr>\n",
       "    <tr>\n",
       "      <th>...</th>\n",
       "      <td>...</td>\n",
       "      <td>...</td>\n",
       "      <td>...</td>\n",
       "      <td>...</td>\n",
       "      <td>...</td>\n",
       "      <td>...</td>\n",
       "      <td>...</td>\n",
       "      <td>...</td>\n",
       "      <td>...</td>\n",
       "      <td>...</td>\n",
       "      <td>...</td>\n",
       "      <td>...</td>\n",
       "      <td>...</td>\n",
       "      <td>...</td>\n",
       "      <td>...</td>\n",
       "      <td>...</td>\n",
       "      <td>...</td>\n",
       "      <td>...</td>\n",
       "      <td>...</td>\n",
       "      <td>...</td>\n",
       "      <td>...</td>\n",
       "    </tr>\n",
       "    <tr>\n",
       "      <th>161</th>\n",
       "      <td>2021-02-19</td>\n",
       "      <td>5</td>\n",
       "      <td>264.802803</td>\n",
       "      <td>156.5146</td>\n",
       "      <td>501.85</td>\n",
       "      <td>-0.033830</td>\n",
       "      <td>91.658</td>\n",
       "      <td>0.102</td>\n",
       "      <td>-0.022306</td>\n",
       "      <td>0.170322</td>\n",
       "      <td>...</td>\n",
       "      <td>322.490067</td>\n",
       "      <td>46.731527</td>\n",
       "      <td>197.027280</td>\n",
       "      <td>122.500602</td>\n",
       "      <td>-24.570602</td>\n",
       "      <td>98.876668</td>\n",
       "      <td>274.553701</td>\n",
       "      <td>216.666529</td>\n",
       "      <td>206.354613</td>\n",
       "      <td>229.581704</td>\n",
       "    </tr>\n",
       "    <tr>\n",
       "      <th>162</th>\n",
       "      <td>2021-02-19</td>\n",
       "      <td>6</td>\n",
       "      <td>271.336676</td>\n",
       "      <td>271.2063</td>\n",
       "      <td>501.62</td>\n",
       "      <td>-0.035252</td>\n",
       "      <td>91.979</td>\n",
       "      <td>0.105</td>\n",
       "      <td>-0.011042</td>\n",
       "      <td>0.139426</td>\n",
       "      <td>...</td>\n",
       "      <td>175.418863</td>\n",
       "      <td>-33.116662</td>\n",
       "      <td>13.614865</td>\n",
       "      <td>163.910618</td>\n",
       "      <td>89.383939</td>\n",
       "      <td>-57.687264</td>\n",
       "      <td>281.361134</td>\n",
       "      <td>271.303402</td>\n",
       "      <td>228.700598</td>\n",
       "      <td>218.044251</td>\n",
       "    </tr>\n",
       "    <tr>\n",
       "      <th>163</th>\n",
       "      <td>2021-02-19</td>\n",
       "      <td>7</td>\n",
       "      <td>283.446311</td>\n",
       "      <td>402.5884</td>\n",
       "      <td>502.13</td>\n",
       "      <td>-0.032138</td>\n",
       "      <td>92.351</td>\n",
       "      <td>0.099</td>\n",
       "      <td>0.039190</td>\n",
       "      <td>0.266695</td>\n",
       "      <td>...</td>\n",
       "      <td>100.892185</td>\n",
       "      <td>6.533873</td>\n",
       "      <td>-26.582789</td>\n",
       "      <td>20.148738</td>\n",
       "      <td>170.444491</td>\n",
       "      <td>95.917813</td>\n",
       "      <td>268.069739</td>\n",
       "      <td>278.019648</td>\n",
       "      <td>271.311720</td>\n",
       "      <td>237.227813</td>\n",
       "    </tr>\n",
       "    <tr>\n",
       "      <th>164</th>\n",
       "      <td>2021-02-19</td>\n",
       "      <td>8</td>\n",
       "      <td>295.176486</td>\n",
       "      <td>530.2465</td>\n",
       "      <td>503.18</td>\n",
       "      <td>-0.027304</td>\n",
       "      <td>92.986</td>\n",
       "      <td>0.131</td>\n",
       "      <td>0.079679</td>\n",
       "      <td>0.325995</td>\n",
       "      <td>...</td>\n",
       "      <td>251.187938</td>\n",
       "      <td>12.109635</td>\n",
       "      <td>18.643508</td>\n",
       "      <td>-14.473154</td>\n",
       "      <td>32.258373</td>\n",
       "      <td>182.554126</td>\n",
       "      <td>277.391494</td>\n",
       "      <td>273.195263</td>\n",
       "      <td>279.376314</td>\n",
       "      <td>273.738639</td>\n",
       "    </tr>\n",
       "    <tr>\n",
       "      <th>165</th>\n",
       "      <td>2021-02-19</td>\n",
       "      <td>9</td>\n",
       "      <td>282.303491</td>\n",
       "      <td>596.1211</td>\n",
       "      <td>659.98</td>\n",
       "      <td>-0.031719</td>\n",
       "      <td>90.363</td>\n",
       "      <td>0.121</td>\n",
       "      <td>0.211296</td>\n",
       "      <td>0.377421</td>\n",
       "      <td>...</td>\n",
       "      <td>297.919465</td>\n",
       "      <td>11.730175</td>\n",
       "      <td>23.839810</td>\n",
       "      <td>30.373683</td>\n",
       "      <td>-2.742979</td>\n",
       "      <td>43.988548</td>\n",
       "      <td>289.311399</td>\n",
       "      <td>283.319824</td>\n",
       "      <td>278.690569</td>\n",
       "      <td>282.536348</td>\n",
       "    </tr>\n",
       "  </tbody>\n",
       "</table>\n",
       "<p>166 rows × 35 columns</p>\n",
       "</div>"
      ],
      "text/plain": [
       "           Date  Hour       CL_BLH    CTM_BLH  WRF_BLH  Carbon monoxide  \\\n",
       "0    2021-02-12    11  1782.971698  2116.5154   918.04        -0.013024   \n",
       "1    2021-02-12    12  2060.904255  2268.4509  1629.29        -0.003834   \n",
       "2    2021-02-12    13  1942.894737  2332.6211  2124.96        -0.004704   \n",
       "3    2021-02-12    14  1684.731183  2376.4629  2726.00        -0.003592   \n",
       "4    2021-02-12    15  1573.967391  2432.8503  2727.78        -0.002880   \n",
       "..          ...   ...          ...        ...      ...              ...   \n",
       "161  2021-02-19     5   264.802803   156.5146   501.85        -0.033830   \n",
       "162  2021-02-19     6   271.336676   271.2063   501.62        -0.035252   \n",
       "163  2021-02-19     7   283.446311   402.5884   502.13        -0.032138   \n",
       "164  2021-02-19     8   295.176486   530.2465   503.18        -0.027304   \n",
       "165  2021-02-19     9   282.303491   596.1211   659.98        -0.031719   \n",
       "\n",
       "     Humidity  Nephelometer   Nitric Oxide  Nitrogen Dioxide  ...  \\\n",
       "0      47.927          0.042     -0.023461          0.069158  ...   \n",
       "1      46.820          0.051     -0.015987          0.076345  ...   \n",
       "2      45.996          0.058     -0.011745          0.066663  ...   \n",
       "3      44.181          0.060     -0.026188          0.057879  ...   \n",
       "4      43.716          0.065     -0.021037          0.052190  ...   \n",
       "..        ...            ...           ...               ...  ...   \n",
       "161    91.658          0.102     -0.022306          0.170322  ...   \n",
       "162    91.979          0.105     -0.011042          0.139426  ...   \n",
       "163    92.351          0.099      0.039190          0.266695  ...   \n",
       "164    92.986          0.131      0.079679          0.325995  ...   \n",
       "165    90.363          0.121      0.211296          0.377421  ...   \n",
       "\n",
       "     CL_BLH_lag5  CL_BLH_diff1  CL_BLH_diff2  CL_BLH_diff3  CL_BLH_diff4  \\\n",
       "0            NaN           NaN           NaN           NaN           NaN   \n",
       "1            NaN           NaN           NaN           NaN           NaN   \n",
       "2            NaN    277.932557           NaN           NaN           NaN   \n",
       "3            NaN   -118.009518    159.923039           NaN           NaN   \n",
       "4            NaN   -258.163554   -376.173073    -98.240515           NaN   \n",
       "..           ...           ...           ...           ...           ...   \n",
       "161   322.490067     46.731527    197.027280    122.500602    -24.570602   \n",
       "162   175.418863    -33.116662     13.614865    163.910618     89.383939   \n",
       "163   100.892185      6.533873    -26.582789     20.148738    170.444491   \n",
       "164   251.187938     12.109635     18.643508    -14.473154     32.258373   \n",
       "165   297.919465     11.730175     23.839810     30.373683     -2.742979   \n",
       "\n",
       "     CL_BLH_diff5  CL_BLH_roll_mean1  CL_BLH_roll_mean2  CL_BLH_roll_mean3  \\\n",
       "0             NaN                NaN                NaN                NaN   \n",
       "1             NaN                NaN                NaN                NaN   \n",
       "2             NaN        1921.937977                NaN                NaN   \n",
       "3             NaN        2001.899496        1928.923563                NaN   \n",
       "4             NaN        1813.812960        1896.176725        1867.875468   \n",
       "..            ...                ...                ...                ...   \n",
       "161     98.876668         274.553701         216.666529         206.354613   \n",
       "162    -57.687264         281.361134         271.303402         228.700598   \n",
       "163     95.917813         268.069739         278.019648         271.311720   \n",
       "164    182.554126         277.391494         273.195263         279.376314   \n",
       "165     43.988548         289.311399         283.319824         278.690569   \n",
       "\n",
       "     CL_BLH_roll_mean4  \n",
       "0                  NaN  \n",
       "1                  NaN  \n",
       "2                  NaN  \n",
       "3                  NaN  \n",
       "4                  NaN  \n",
       "..                 ...  \n",
       "161         229.581704  \n",
       "162         218.044251  \n",
       "163         237.227813  \n",
       "164         273.738639  \n",
       "165         282.536348  \n",
       "\n",
       "[166 rows x 35 columns]"
      ]
     },
     "execution_count": 20,
     "metadata": {},
     "output_type": "execute_result"
    }
   ],
   "source": [
    "df_merriwa_wlags"
   ]
  },
  {
   "cell_type": "code",
   "execution_count": 21,
   "id": "distant-kruger",
   "metadata": {},
   "outputs": [],
   "source": [
    "from sklearn.metrics import mean_absolute_error\n",
    "from sklearn.metrics import mean_squared_error\n",
    "from sklearn.metrics import r2_score"
   ]
  },
  {
   "cell_type": "code",
   "execution_count": 22,
   "id": "neither-statistics",
   "metadata": {},
   "outputs": [],
   "source": [
    "#From: https://github.com/rkawsar/ambhas/blob/master/ambhas/errlib.py\n",
    "\n",
    "#Index of agreement(model prediction error)\n",
    "\n",
    "\n",
    "def index_agreement(s, o):\n",
    "    \"\"\"\n",
    "    Willmott index of agreement\n",
    "\n",
    "    input:\n",
    "        s: simulated\n",
    "        o: observed\n",
    "    output:\n",
    "        ia: index of agreement\n",
    "    \"\"\"\n",
    "    ia = 1 -(np.sum((o-s)**2))/(np.sum((np.abs(s-np.mean(o))+np.abs(o-np.mean(o)))**2))\n",
    "    return ia"
   ]
  },
  {
   "cell_type": "code",
   "execution_count": 23,
   "id": "valid-stanford",
   "metadata": {},
   "outputs": [],
   "source": [
    "#mean bias error\n",
    "\n",
    "def mean_bias_error(y_true, y_pred):\n",
    "    return np.mean(y_pred - y_true)"
   ]
  },
  {
   "cell_type": "code",
   "execution_count": 24,
   "id": "lined-property",
   "metadata": {},
   "outputs": [],
   "source": [
    "def MASE(training_series, testing_series, prediction_series):\n",
    "\n",
    "    n = training_series.shape[0]\n",
    "    d = np.abs(  np.diff( training_series) ).sum()/(n-1)\n",
    "    \n",
    "    errors = np.abs(testing_series - prediction_series )\n",
    "    return errors.mean()/d"
   ]
  },
  {
   "cell_type": "code",
   "execution_count": 25,
   "id": "oriental-litigation",
   "metadata": {},
   "outputs": [],
   "source": [
    "#DTW distance(Dynamic Time Warping)\n",
    "from fastdtw import fastdtw\n",
    "from scipy.spatial.distance import euclidean\n",
    "\n",
    "def DTW_dist(y_true, y_pred):\n",
    "    distance, path = fastdtw(y_true, y_pred, dist=euclidean)\n",
    "    \n",
    "    return distance, path"
   ]
  },
  {
   "cell_type": "code",
   "execution_count": 26,
   "id": "animal-graduation",
   "metadata": {},
   "outputs": [],
   "source": [
    "#Function to calculate and print out metrics\n",
    "\n",
    "def statistical_metrics_on_df(y_true, y_pred, train_series, location):    \n",
    "    y_true = y_true.to_numpy()\n",
    "    y_pred = y_pred.to_numpy()\n",
    "    \n",
    "    rmse = np.sqrt(mean_squared_error(y_true, y_pred))\n",
    "    mae = mean_absolute_error(y_true, y_pred)\n",
    "    mbe = mean_bias_error(y_true, y_pred)\n",
    "    ioa = index_agreement(y_pred, y_true)\n",
    "    dtw_dist, path = DTW_dist(y_true, y_pred)\n",
    "    mase = MASE(train_series, y_pred, y_true)\n",
    "    \n",
    "    print('At %s\\nIndex of agreement:%.5f\\nRoot mean squared error:%.5f\\nMean absoluate error:%.5f\\nMean bias error:%.5f\\nDTW distance:%.2f\\nMASE:%.5f' % (location, ioa, rmse, mae, mbe, dtw_dist, mase))"
   ]
  },
  {
   "cell_type": "code",
   "execution_count": 27,
   "id": "accompanied-charleston",
   "metadata": {},
   "outputs": [
    {
     "name": "stdout",
     "output_type": "stream",
     "text": [
      "At Merriwa CTM model\n",
      "Index of agreement:0.83320\n",
      "Root mean squared error:212.95909\n",
      "Mean absoluate error:171.77558\n",
      "Mean bias error:-21.58962\n",
      "DTW distance:3611.44\n",
      "MASE:0.90875\n"
     ]
    }
   ],
   "source": [
    "statistical_metrics_on_df(df_merriwa_filled.tail(24)['CL_BLH'], df_merriwa_filled.tail(24)['CTM_BLH'], df_merriwa_filled.head(142)['CL_BLH'], 'Merriwa CTM model')"
   ]
  },
  {
   "cell_type": "code",
   "execution_count": 28,
   "id": "single-balance",
   "metadata": {},
   "outputs": [
    {
     "name": "stdout",
     "output_type": "stream",
     "text": [
      "At Lidcombe CTM model\n",
      "Index of agreement:0.39774\n",
      "Root mean squared error:585.35820\n",
      "Mean absoluate error:505.07921\n",
      "Mean bias error:-375.16142\n",
      "DTW distance:8749.96\n",
      "MASE:2.29637\n"
     ]
    }
   ],
   "source": [
    "statistical_metrics_on_df(df_lidcombe_filled.tail(24)['CL_BLH'], df_lidcombe_filled.tail(24)['CTM_BLH'], df_lidcombe_filled.head(142)['CL_BLH'], 'Lidcombe CTM model')"
   ]
  },
  {
   "cell_type": "code",
   "execution_count": 29,
   "id": "higher-nicholas",
   "metadata": {},
   "outputs": [
    {
     "name": "stdout",
     "output_type": "stream",
     "text": [
      "At Merriwa WRF model\n",
      "Index of agreement:0.64988\n",
      "Root mean squared error:333.80451\n",
      "Mean absoluate error:274.93361\n",
      "Mean bias error:180.78693\n",
      "DTW distance:5847.39\n",
      "MASE:1.45449\n"
     ]
    }
   ],
   "source": [
    "statistical_metrics_on_df(df_merriwa_filled.tail(24)['CL_BLH'], df_merriwa_filled.tail(24)['WRF_BLH'], df_merriwa_filled.head(142)['CL_BLH'], 'Merriwa WRF model')"
   ]
  },
  {
   "cell_type": "code",
   "execution_count": 30,
   "id": "orange-atlantic",
   "metadata": {},
   "outputs": [
    {
     "name": "stdout",
     "output_type": "stream",
     "text": [
      "At Lidcombe WRF model\n",
      "Index of agreement:0.53857\n",
      "Root mean squared error:458.91711\n",
      "Mean absoluate error:384.71552\n",
      "Mean bias error:-343.37658\n",
      "DTW distance:7725.26\n",
      "MASE:1.74913\n"
     ]
    }
   ],
   "source": [
    "statistical_metrics_on_df(df_lidcombe_filled.tail(24)['CL_BLH'], df_lidcombe_filled.tail(24)['WRF_BLH'], df_lidcombe_filled.head(142)['CL_BLH'], 'Lidcombe WRF model')"
   ]
  },
  {
   "cell_type": "markdown",
   "id": "isolated-joseph",
   "metadata": {},
   "source": [
    "# 3.) Regression models"
   ]
  },
  {
   "cell_type": "markdown",
   "id": "muslim-medium",
   "metadata": {},
   "source": [
    "### 3.1.1 Train test split and consideration of all features"
   ]
  },
  {
   "cell_type": "code",
   "execution_count": 31,
   "id": "laughing-cause",
   "metadata": {},
   "outputs": [],
   "source": [
    "feature_list_all = [feature for feature in df_merriwa.columns][5:len(df_merriwa.columns)-2]"
   ]
  },
  {
   "cell_type": "code",
   "execution_count": 32,
   "id": "instructional-status",
   "metadata": {},
   "outputs": [
    {
     "data": {
      "text/plain": [
       "['Carbon monoxide',\n",
       " 'Humidity',\n",
       " 'Nephelometer ',\n",
       " 'Nitric Oxide',\n",
       " 'Nitrogen Dioxide',\n",
       " 'Ozone',\n",
       " 'PM10',\n",
       " 'PM2.5',\n",
       " 'Rainfall',\n",
       " 'Sulphur Dioxide',\n",
       " 'Temperature',\n",
       " 'Wind Direction (10m) ',\n",
       " 'Wind Direction Sigma Theta',\n",
       " 'Wind Speed (10m)  ']"
      ]
     },
     "execution_count": 32,
     "metadata": {},
     "output_type": "execute_result"
    }
   ],
   "source": [
    "#list of all features \n",
    "feature_list_all"
   ]
  },
  {
   "cell_type": "code",
   "execution_count": 33,
   "id": "remarkable-jordan",
   "metadata": {},
   "outputs": [
    {
     "data": {
      "text/plain": [
       "['Carbon monoxide',\n",
       " 'Humidity',\n",
       " 'Nephelometer ',\n",
       " 'Nitric Oxide',\n",
       " 'Nitrogen Dioxide',\n",
       " 'Ozone',\n",
       " 'PM10',\n",
       " 'PM2.5',\n",
       " 'Rainfall',\n",
       " 'Sulphur Dioxide',\n",
       " 'Temperature',\n",
       " 'Wind Direction (10m) ',\n",
       " 'Wind Direction Sigma Theta',\n",
       " 'Wind Speed (10m)  ',\n",
       " 'CL_BLH_lag1',\n",
       " 'CL_BLH_lag2',\n",
       " 'CL_BLH_lag3',\n",
       " 'CL_BLH_lag4',\n",
       " 'CL_BLH_lag5',\n",
       " 'CL_BLH_diff1',\n",
       " 'CL_BLH_diff2',\n",
       " 'CL_BLH_diff3',\n",
       " 'CL_BLH_diff4',\n",
       " 'CL_BLH_diff5',\n",
       " 'CL_BLH_roll_mean1',\n",
       " 'CL_BLH_roll_mean2',\n",
       " 'CL_BLH_roll_mean3',\n",
       " 'CL_BLH_roll_mean4']"
      ]
     },
     "execution_count": 33,
     "metadata": {},
     "output_type": "execute_result"
    }
   ],
   "source": [
    "#Feature list with lags\n",
    "feature_list_all_wlags = feature_list_all.copy()\n",
    "feature_list_all_wlags.extend(['CL_BLH_lag1', 'CL_BLH_lag2','CL_BLH_lag3','CL_BLH_lag4','CL_BLH_lag5'])\n",
    "\n",
    "#Feature list with lags and BL difference\n",
    "\n",
    "feature_list_all_ld = feature_list_all_wlags.copy()\n",
    "feature_list_all_ld.extend(['CL_BLH_diff1', 'CL_BLH_diff2','CL_BLH_diff3','CL_BLH_diff4','CL_BLH_diff5'])\n",
    "\n",
    "#Feature list with lags, difference and rolling mean\n",
    "feature_list_all_ldm = feature_list_all_ld.copy()\n",
    "feature_list_all_ldm.extend(['CL_BLH_roll_mean1', 'CL_BLH_roll_mean2', 'CL_BLH_roll_mean3', 'CL_BLH_roll_mean4'])\n",
    "\n",
    "feature_list_all_ldm"
   ]
  },
  {
   "cell_type": "markdown",
   "id": "institutional-character",
   "metadata": {},
   "source": [
    "### 3.1.2 Plots"
   ]
  },
  {
   "cell_type": "code",
   "execution_count": 34,
   "id": "casual-subcommittee",
   "metadata": {},
   "outputs": [],
   "source": [
    "def pred_plots(df, title):\n",
    "    resid_plot_title = 'Residual plots at '+ title\n",
    "    pred_plot_title = 'Comparison of predicted BLH at ' + title\n",
    "    \n",
    "    sns.set_theme(style=\"whitegrid\")\n",
    "\n",
    "    # Make an example dataset with y ~ x\n",
    "    x = df['CL_BLH']\n",
    "    y = df['Predicted BLH']\n",
    "    z = df['WRF_BLH']\n",
    "    # Plot the residuals after fitting a linear model\n",
    "    #sns.residplot(x=x, y=y, lowess=True, color=\"g\").set(title = resid_plot_title)\n",
    "    #df.plot(title = pred_plot_title, figsize=(15,10))\n",
    "    #df.plot(x=x, y=z, color =\"r\").set(title = pred_plot_title)"
   ]
  },
  {
   "cell_type": "markdown",
   "id": "alone-vacation",
   "metadata": {},
   "source": [
    "### 3.1.3 Statistical metrics result"
   ]
  },
  {
   "cell_type": "code",
   "execution_count": 35,
   "id": "second-bennett",
   "metadata": {},
   "outputs": [],
   "source": [
    "def results_print(df, train_series, title):\n",
    "    #pred_plots(df, title)\n",
    "    statistical_metrics_on_df(df['CL_BLH'], df['Predicted BLH'], train_series, title)"
   ]
  },
  {
   "cell_type": "code",
   "execution_count": 36,
   "id": "basic-customs",
   "metadata": {},
   "outputs": [],
   "source": [
    "train = df_merriwa_wlags.head(142).dropna()\n",
    "test = df_merriwa_wlags.tail(24)\n",
    "\n",
    "X_train = train[feature_list_all_ldm]\n",
    "X_test = test[feature_list_all_ldm]\n",
    "\n",
    "y_train = train['CL_BLH']\n",
    "y_test = test['CL_BLH']"
   ]
  },
  {
   "cell_type": "markdown",
   "id": "increased-kazakhstan",
   "metadata": {},
   "source": [
    "# Random forest hyper"
   ]
  },
  {
   "cell_type": "markdown",
   "id": "lined-thickness",
   "metadata": {},
   "source": [
    "## Random search"
   ]
  },
  {
   "cell_type": "code",
   "execution_count": 37,
   "id": "twelve-eight",
   "metadata": {},
   "outputs": [
    {
     "name": "stdout",
     "output_type": "stream",
     "text": [
      "Parameters currently in use:\n",
      "\n",
      "{'bootstrap': True,\n",
      " 'ccp_alpha': 0.0,\n",
      " 'criterion': 'mse',\n",
      " 'max_depth': None,\n",
      " 'max_features': 'auto',\n",
      " 'max_leaf_nodes': None,\n",
      " 'max_samples': None,\n",
      " 'min_impurity_decrease': 0.0,\n",
      " 'min_impurity_split': None,\n",
      " 'min_samples_leaf': 1,\n",
      " 'min_samples_split': 2,\n",
      " 'min_weight_fraction_leaf': 0.0,\n",
      " 'n_estimators': 100,\n",
      " 'n_jobs': None,\n",
      " 'oob_score': False,\n",
      " 'random_state': None,\n",
      " 'verbose': 0,\n",
      " 'warm_start': False}\n"
     ]
    }
   ],
   "source": [
    "from sklearn.ensemble import RandomForestRegressor\n",
    "rf = RandomForestRegressor()\n",
    "from pprint import pprint\n",
    "# Look at parameters used by our current forest\n",
    "print('Parameters currently in use:\\n')\n",
    "pprint(rf.get_params())"
   ]
  },
  {
   "cell_type": "code",
   "execution_count": 38,
   "id": "handy-differential",
   "metadata": {},
   "outputs": [
    {
     "name": "stdout",
     "output_type": "stream",
     "text": [
      "{'bootstrap': [True, False],\n",
      " 'max_depth': [10, 20, 30, 40, 50, 60, 70, 80, 90, 100, 110, None],\n",
      " 'max_features': ['auto', 'sqrt'],\n",
      " 'min_samples_leaf': [1, 2, 4],\n",
      " 'min_samples_split': [2, 5, 10],\n",
      " 'n_estimators': [200, 400, 600, 800, 1000, 1200, 1400, 1600, 1800, 2000]}\n"
     ]
    }
   ],
   "source": [
    "from sklearn.model_selection import RandomizedSearchCV\n",
    "# Number of trees in random forest\n",
    "n_estimators = [int(x) for x in np.linspace(start = 200, stop = 2000, num = 10)]\n",
    "# Number of features to consider at every split\n",
    "max_features = ['auto', 'sqrt']\n",
    "# Maximum number of levels in tree\n",
    "max_depth = [int(x) for x in np.linspace(10, 110, num = 11)]\n",
    "max_depth.append(None)\n",
    "# Minimum number of samples required to split a node\n",
    "min_samples_split = [2, 5, 10]\n",
    "# Minimum number of samples required at each leaf node\n",
    "min_samples_leaf = [1, 2, 4]\n",
    "# Method of selecting samples for training each tree\n",
    "bootstrap = [True, False]\n",
    "# Create the random grid\n",
    "random_grid = {'n_estimators': n_estimators,\n",
    "               'max_features': max_features,\n",
    "               'max_depth': max_depth,\n",
    "               'min_samples_split': min_samples_split,\n",
    "               'min_samples_leaf': min_samples_leaf,\n",
    "               'bootstrap': bootstrap}\n",
    "pprint(random_grid)"
   ]
  },
  {
   "cell_type": "code",
   "execution_count": 39,
   "id": "alternate-reader",
   "metadata": {},
   "outputs": [
    {
     "name": "stdout",
     "output_type": "stream",
     "text": [
      "Fitting 5 folds for each of 100 candidates, totalling 500 fits\n"
     ]
    },
    {
     "name": "stderr",
     "output_type": "stream",
     "text": [
      "[Parallel(n_jobs=-1)]: Using backend LokyBackend with 8 concurrent workers.\n",
      "[Parallel(n_jobs=-1)]: Done  25 tasks      | elapsed:   14.2s\n",
      "[Parallel(n_jobs=-1)]: Done 146 tasks      | elapsed:  1.0min\n",
      "[Parallel(n_jobs=-1)]: Done 349 tasks      | elapsed:  2.3min\n",
      "[Parallel(n_jobs=-1)]: Done 500 out of 500 | elapsed:  3.3min finished\n"
     ]
    },
    {
     "data": {
      "text/plain": [
       "RandomizedSearchCV(cv=5, estimator=RandomForestRegressor(), n_iter=100,\n",
       "                   n_jobs=-1,\n",
       "                   param_distributions={'bootstrap': [True, False],\n",
       "                                        'max_depth': [10, 20, 30, 40, 50, 60,\n",
       "                                                      70, 80, 90, 100, 110,\n",
       "                                                      None],\n",
       "                                        'max_features': ['auto', 'sqrt'],\n",
       "                                        'min_samples_leaf': [1, 2, 4],\n",
       "                                        'min_samples_split': [2, 5, 10],\n",
       "                                        'n_estimators': [200, 400, 600, 800,\n",
       "                                                         1000, 1200, 1400, 1600,\n",
       "                                                         1800, 2000]},\n",
       "                   verbose=2)"
      ]
     },
     "execution_count": 39,
     "metadata": {},
     "output_type": "execute_result"
    }
   ],
   "source": [
    "# Use the random grid to search for best hyperparameters\n",
    "# First create the base model to tune\n",
    "rf = RandomForestRegressor()\n",
    "# Random search of parameters, using 3 fold cross validation, \n",
    "# search across 100 different combinations, and use all available cores\n",
    "rf_random = RandomizedSearchCV(estimator = rf, param_distributions = random_grid, n_iter = 100, cv = 5, verbose=2, n_jobs = -1)\n",
    "# Fit the random search model\n",
    "rf_random.fit(X_train, y_train)"
   ]
  },
  {
   "cell_type": "code",
   "execution_count": 40,
   "id": "treated-delay",
   "metadata": {},
   "outputs": [
    {
     "name": "stdout",
     "output_type": "stream",
     "text": [
      "{'n_estimators': 200, 'min_samples_split': 5, 'min_samples_leaf': 1, 'max_features': 'sqrt', 'max_depth': 60, 'bootstrap': True}\n"
     ]
    }
   ],
   "source": [
    "print(rf_random.best_params_)"
   ]
  },
  {
   "cell_type": "code",
   "execution_count": 120,
   "id": "intense-blend",
   "metadata": {},
   "outputs": [
    {
     "data": {
      "text/plain": [
       "RandomForestRegressor(max_depth=60, max_features='sqrt', min_samples_split=5,\n",
       "                      n_estimators=200)"
      ]
     },
     "execution_count": 120,
     "metadata": {},
     "output_type": "execute_result"
    }
   ],
   "source": [
    "rf_random.best_estimator_"
   ]
  },
  {
   "cell_type": "markdown",
   "id": "critical-forum",
   "metadata": {},
   "source": [
    "## GridsearchCV"
   ]
  },
  {
   "cell_type": "code",
   "execution_count": 122,
   "id": "quick-contest",
   "metadata": {},
   "outputs": [],
   "source": [
    "from sklearn.model_selection import GridSearchCV\n",
    "# Create the parameter grid based on the results of random search \n",
    "param_grid = {\n",
    "    'bootstrap': [True],\n",
    "    'max_depth': [70, 80, 90],\n",
    "    'max_features': ['auto', 'sqrt'],\n",
    "    'min_samples_leaf': [1, 2, 3],\n",
    "    'min_samples_split': [2, 5, 8],\n",
    "    'n_estimators': [400, 600, 800]\n",
    "}\n",
    "# Create a based model\n",
    "rf = RandomForestRegressor()\n",
    "# Instantiate the grid search model\n",
    "grid_search = GridSearchCV(estimator = rf, param_grid = param_grid, \n",
    "                          cv = 5, n_jobs = -1, verbose = 2)"
   ]
  },
  {
   "cell_type": "code",
   "execution_count": 123,
   "id": "collective-parker",
   "metadata": {},
   "outputs": [
    {
     "name": "stdout",
     "output_type": "stream",
     "text": [
      "Fitting 5 folds for each of 162 candidates, totalling 810 fits\n"
     ]
    },
    {
     "name": "stderr",
     "output_type": "stream",
     "text": [
      "[Parallel(n_jobs=-1)]: Using backend LokyBackend with 8 concurrent workers.\n",
      "[Parallel(n_jobs=-1)]: Done  25 tasks      | elapsed:   10.0s\n",
      "[Parallel(n_jobs=-1)]: Done 146 tasks      | elapsed:   40.3s\n",
      "[Parallel(n_jobs=-1)]: Done 349 tasks      | elapsed:  1.6min\n",
      "[Parallel(n_jobs=-1)]: Done 632 tasks      | elapsed:  2.7min\n",
      "[Parallel(n_jobs=-1)]: Done 810 out of 810 | elapsed:  3.3min finished\n"
     ]
    },
    {
     "data": {
      "text/plain": [
       "GridSearchCV(cv=5, estimator=RandomForestRegressor(), n_jobs=-1,\n",
       "             param_grid={'bootstrap': [True], 'max_depth': [70, 80, 90],\n",
       "                         'max_features': ['auto', 'sqrt'],\n",
       "                         'min_samples_leaf': [1, 2, 3],\n",
       "                         'min_samples_split': [2, 5, 8],\n",
       "                         'n_estimators': [400, 600, 800]},\n",
       "             verbose=2)"
      ]
     },
     "execution_count": 123,
     "metadata": {},
     "output_type": "execute_result"
    }
   ],
   "source": [
    "grid_search.fit(X_train, y_train)"
   ]
  },
  {
   "cell_type": "code",
   "execution_count": 124,
   "id": "disturbed-greeting",
   "metadata": {},
   "outputs": [
    {
     "data": {
      "text/plain": [
       "{'bootstrap': True,\n",
       " 'max_depth': 70,\n",
       " 'max_features': 'sqrt',\n",
       " 'min_samples_leaf': 2,\n",
       " 'min_samples_split': 2,\n",
       " 'n_estimators': 400}"
      ]
     },
     "execution_count": 124,
     "metadata": {},
     "output_type": "execute_result"
    }
   ],
   "source": [
    "# Fit the grid search to the data\n",
    "grid_search.best_params_"
   ]
  },
  {
   "cell_type": "code",
   "execution_count": 125,
   "id": "million-offer",
   "metadata": {},
   "outputs": [
    {
     "data": {
      "text/plain": [
       "RandomForestRegressor(max_depth=70, max_features='sqrt', min_samples_leaf=2,\n",
       "                      n_estimators=400)"
      ]
     },
     "execution_count": 125,
     "metadata": {},
     "output_type": "execute_result"
    }
   ],
   "source": [
    "grid_search.best_estimator_"
   ]
  },
  {
   "cell_type": "markdown",
   "id": "rubber-layout",
   "metadata": {},
   "source": [
    "## Evaluation"
   ]
  },
  {
   "cell_type": "code",
   "execution_count": 45,
   "id": "reported-filling",
   "metadata": {},
   "outputs": [],
   "source": [
    "def evaluate(model, test_features, test_labels):\n",
    "    predictions = model.predict(test_features)\n",
    "    errors = abs(predictions - test_labels)\n",
    "    mape = 100 * np.mean(errors / test_labels)\n",
    "    accuracy = 100 - mape\n",
    "    print('Model Performance')\n",
    "    print('Average Error: {:0.4f} degrees.'.format(np.mean(errors)))\n",
    "    print('Accuracy = {:0.2f}%.'.format(accuracy))\n",
    "    \n",
    "    return accuracy\n",
    "\n"
   ]
  },
  {
   "cell_type": "code",
   "execution_count": 46,
   "id": "august-raise",
   "metadata": {},
   "outputs": [
    {
     "name": "stdout",
     "output_type": "stream",
     "text": [
      "Model Performance\n",
      "Average Error: 145.2753 degrees.\n",
      "Accuracy = 45.56%.\n",
      "\n",
      "\n",
      "Model Performance\n",
      "Average Error: 144.5249 degrees.\n",
      "Accuracy = 48.84%.\n",
      "\n",
      "\n",
      "Improvement of 7.21%.\n"
     ]
    }
   ],
   "source": [
    "base_model = RandomForestRegressor()\n",
    "base_model.fit(X_train, y_train)\n",
    "base_accuracy = evaluate(base_model, X_test, y_test)\n",
    "print(\"\\n\")\n",
    "best_random = rf_random.best_estimator_\n",
    "random_accuracy = evaluate(best_random, X_test, y_test)\n",
    "print(\"\\n\")\n",
    "print('Improvement of {:0.2f}%.'.format( 100 * (random_accuracy - base_accuracy) / base_accuracy))"
   ]
  },
  {
   "cell_type": "code",
   "execution_count": 47,
   "id": "controlling-composer",
   "metadata": {},
   "outputs": [
    {
     "name": "stdout",
     "output_type": "stream",
     "text": [
      "Model Performance\n",
      "Average Error: 147.1320 degrees.\n",
      "Accuracy = 46.91%.\n",
      "\n",
      "\n",
      "Improvement of 2.96%.\n"
     ]
    }
   ],
   "source": [
    "best_grid = grid_search.best_estimator_\n",
    "grid_accuracy = evaluate(best_grid, X_test, y_test)\n",
    "print(\"\\n\")\n",
    "print('Improvement of {:0.2f}%.'.format( 100 * (grid_accuracy - base_accuracy) / base_accuracy))"
   ]
  },
  {
   "cell_type": "markdown",
   "id": "tutorial-armenia",
   "metadata": {},
   "source": [
    "#  SVR hyper "
   ]
  },
  {
   "cell_type": "markdown",
   "id": "tender-mainland",
   "metadata": {},
   "source": [
    "## Random search"
   ]
  },
  {
   "cell_type": "code",
   "execution_count": 48,
   "id": "infrared-amateur",
   "metadata": {},
   "outputs": [],
   "source": [
    "from sklearn import svm"
   ]
  },
  {
   "cell_type": "code",
   "execution_count": 49,
   "id": "breathing-increase",
   "metadata": {},
   "outputs": [
    {
     "name": "stdout",
     "output_type": "stream",
     "text": [
      "Parameters currently in use:\n",
      "\n",
      "{'C': 1.0,\n",
      " 'dual': True,\n",
      " 'epsilon': 0.0,\n",
      " 'fit_intercept': True,\n",
      " 'intercept_scaling': 1.0,\n",
      " 'loss': 'epsilon_insensitive',\n",
      " 'max_iter': 1000,\n",
      " 'random_state': None,\n",
      " 'tol': 0.0001,\n",
      " 'verbose': 0}\n"
     ]
    }
   ],
   "source": [
    "vreg = svm.LinearSVR()\n",
    "\n",
    "# Look at parameters used by our current forest\n",
    "print('Parameters currently in use:\\n')\n",
    "pprint(vreg.get_params())"
   ]
  },
  {
   "cell_type": "code",
   "execution_count": 50,
   "id": "naked-democrat",
   "metadata": {},
   "outputs": [],
   "source": [
    "parameters = { 'C':[1.5, 10],'epsilon':[0.1,0.2,0.5,0.3],'loss':['epsilon_insensitive', 'squared_epsilon_insensitive'], 'fit_intercept':[True, False]}"
   ]
  },
  {
   "cell_type": "code",
   "execution_count": 51,
   "id": "recovered-corrections",
   "metadata": {},
   "outputs": [
    {
     "name": "stderr",
     "output_type": "stream",
     "text": [
      "C:\\Users\\vichu\\anaconda3\\envs\\rstudio\\lib\\site-packages\\sklearn\\model_selection\\_search.py:282: UserWarning: The total space of parameters 32 is smaller than n_iter=100. Running 32 iterations. For exhaustive searches, use GridSearchCV.\n",
      "  % (grid_size, self.n_iter, grid_size), UserWarning)\n",
      "[Parallel(n_jobs=-1)]: Using backend LokyBackend with 8 concurrent workers.\n",
      "[Parallel(n_jobs=-1)]: Done  34 tasks      | elapsed:    0.1s\n"
     ]
    },
    {
     "name": "stdout",
     "output_type": "stream",
     "text": [
      "Fitting 5 folds for each of 32 candidates, totalling 160 fits\n"
     ]
    },
    {
     "name": "stderr",
     "output_type": "stream",
     "text": [
      "[Parallel(n_jobs=-1)]: Done 160 out of 160 | elapsed:    0.5s finished\n",
      "C:\\Users\\vichu\\anaconda3\\envs\\rstudio\\lib\\site-packages\\sklearn\\svm\\_base.py:977: ConvergenceWarning: Liblinear failed to converge, increase the number of iterations.\n",
      "  \"the number of iterations.\", ConvergenceWarning)\n"
     ]
    },
    {
     "data": {
      "text/plain": [
       "RandomizedSearchCV(cv=5, estimator=LinearSVR(), n_iter=100, n_jobs=-1,\n",
       "                   param_distributions={'C': [1.5, 10],\n",
       "                                        'epsilon': [0.1, 0.2, 0.5, 0.3],\n",
       "                                        'fit_intercept': [True, False],\n",
       "                                        'loss': ['epsilon_insensitive',\n",
       "                                                 'squared_epsilon_insensitive']},\n",
       "                   verbose=2)"
      ]
     },
     "execution_count": 51,
     "metadata": {},
     "output_type": "execute_result"
    }
   ],
   "source": [
    "svr_random = RandomizedSearchCV(estimator = vreg, param_distributions = parameters, n_iter = 100, cv = 5, verbose=2, n_jobs = -1)\n",
    "# Fit the random search model\n",
    "svr_random.fit(X_train, y_train)"
   ]
  },
  {
   "cell_type": "code",
   "execution_count": 52,
   "id": "august-transcription",
   "metadata": {},
   "outputs": [
    {
     "data": {
      "text/plain": [
       "{'loss': 'squared_epsilon_insensitive',\n",
       " 'fit_intercept': False,\n",
       " 'epsilon': 0.3,\n",
       " 'C': 10}"
      ]
     },
     "execution_count": 52,
     "metadata": {},
     "output_type": "execute_result"
    }
   ],
   "source": [
    "svr_random.best_params_"
   ]
  },
  {
   "cell_type": "code",
   "execution_count": 53,
   "id": "prerequisite-hampshire",
   "metadata": {},
   "outputs": [
    {
     "data": {
      "text/plain": [
       "LinearSVR(C=10, epsilon=0.3, fit_intercept=False,\n",
       "          loss='squared_epsilon_insensitive')"
      ]
     },
     "execution_count": 53,
     "metadata": {},
     "output_type": "execute_result"
    }
   ],
   "source": [
    "svr_random.best_estimator_"
   ]
  },
  {
   "cell_type": "markdown",
   "id": "bacterial-profit",
   "metadata": {},
   "source": [
    "## Grid search"
   ]
  },
  {
   "cell_type": "code",
   "execution_count": 54,
   "id": "instant-arlington",
   "metadata": {},
   "outputs": [
    {
     "name": "stdout",
     "output_type": "stream",
     "text": [
      "Fitting 5 folds for each of 32 candidates, totalling 160 fits\n"
     ]
    },
    {
     "name": "stderr",
     "output_type": "stream",
     "text": [
      "[Parallel(n_jobs=-1)]: Using backend LokyBackend with 8 concurrent workers.\n",
      "[Parallel(n_jobs=-1)]: Done  34 tasks      | elapsed:    0.1s\n",
      "[Parallel(n_jobs=-1)]: Done 160 out of 160 | elapsed:    0.5s finished\n",
      "C:\\Users\\vichu\\anaconda3\\envs\\rstudio\\lib\\site-packages\\sklearn\\svm\\_base.py:977: ConvergenceWarning: Liblinear failed to converge, increase the number of iterations.\n",
      "  \"the number of iterations.\", ConvergenceWarning)\n"
     ]
    },
    {
     "data": {
      "text/plain": [
       "GridSearchCV(cv=5, estimator=LinearSVR(), n_jobs=-1,\n",
       "             param_grid={'C': [1.5, 10], 'epsilon': [0.1, 0.2, 0.5, 0.3],\n",
       "                         'fit_intercept': [True, False],\n",
       "                         'loss': ['epsilon_insensitive',\n",
       "                                  'squared_epsilon_insensitive']},\n",
       "             verbose=2)"
      ]
     },
     "execution_count": 54,
     "metadata": {},
     "output_type": "execute_result"
    }
   ],
   "source": [
    "grid_svr = GridSearchCV(estimator = vreg, param_grid = parameters, \n",
    "                          cv = 5, n_jobs = -1, verbose = 2)\n",
    "grid_svr.fit(X_train, y_train)"
   ]
  },
  {
   "cell_type": "code",
   "execution_count": 55,
   "id": "intelligent-calgary",
   "metadata": {},
   "outputs": [
    {
     "data": {
      "text/plain": [
       "{'C': 1.5,\n",
       " 'epsilon': 0.1,\n",
       " 'fit_intercept': False,\n",
       " 'loss': 'epsilon_insensitive'}"
      ]
     },
     "execution_count": 55,
     "metadata": {},
     "output_type": "execute_result"
    }
   ],
   "source": [
    "grid_svr.best_params_"
   ]
  },
  {
   "cell_type": "code",
   "execution_count": 56,
   "id": "developed-uganda",
   "metadata": {},
   "outputs": [
    {
     "data": {
      "text/plain": [
       "LinearSVR(C=1.5, epsilon=0.1, fit_intercept=False)"
      ]
     },
     "execution_count": 56,
     "metadata": {},
     "output_type": "execute_result"
    }
   ],
   "source": [
    "grid_svr.best_estimator_"
   ]
  },
  {
   "cell_type": "markdown",
   "id": "european-dubai",
   "metadata": {},
   "source": [
    "## Evaluation"
   ]
  },
  {
   "cell_type": "code",
   "execution_count": 57,
   "id": "corresponding-exhibition",
   "metadata": {},
   "outputs": [
    {
     "name": "stdout",
     "output_type": "stream",
     "text": [
      "Model Performance\n",
      "Average Error: 223.2595 degrees.\n",
      "Accuracy = 37.10%.\n",
      "\n",
      "\n",
      "Model Performance\n",
      "Average Error: 140.5820 degrees.\n",
      "Accuracy = 58.48%.\n",
      "\n",
      "\n",
      "Improvement of 57.62%.\n"
     ]
    },
    {
     "name": "stderr",
     "output_type": "stream",
     "text": [
      "C:\\Users\\vichu\\anaconda3\\envs\\rstudio\\lib\\site-packages\\sklearn\\svm\\_base.py:977: ConvergenceWarning: Liblinear failed to converge, increase the number of iterations.\n",
      "  \"the number of iterations.\", ConvergenceWarning)\n"
     ]
    }
   ],
   "source": [
    "base_model = svm.LinearSVR()\n",
    "base_model.fit(X_train, y_train)\n",
    "base_accuracy = evaluate(base_model, X_test, y_test)\n",
    "print(\"\\n\")\n",
    "best_random = svr_random.best_estimator_\n",
    "random_accuracy = evaluate(best_random, X_test, y_test)\n",
    "print(\"\\n\")\n",
    "print('Improvement of {:0.2f}%.'.format( 100 * (random_accuracy - base_accuracy) / base_accuracy))"
   ]
  },
  {
   "cell_type": "code",
   "execution_count": 58,
   "id": "moving-journalism",
   "metadata": {},
   "outputs": [
    {
     "name": "stdout",
     "output_type": "stream",
     "text": [
      "Model Performance\n",
      "Average Error: 128.1960 degrees.\n",
      "Accuracy = 64.01%.\n",
      "\n",
      "\n",
      "Improvement of 72.51%.\n"
     ]
    }
   ],
   "source": [
    "best_grid = grid_svr.best_estimator_\n",
    "grid_accuracy = evaluate(best_grid, X_test, y_test)\n",
    "print(\"\\n\")\n",
    "print('Improvement of {:0.2f}%.'.format( 100 * (grid_accuracy - base_accuracy) / base_accuracy))"
   ]
  },
  {
   "cell_type": "markdown",
   "id": "split-approach",
   "metadata": {},
   "source": [
    "# MLR hyper"
   ]
  },
  {
   "cell_type": "code",
   "execution_count": 59,
   "id": "employed-distribution",
   "metadata": {},
   "outputs": [],
   "source": [
    "from sklearn.linear_model import LinearRegression"
   ]
  },
  {
   "cell_type": "markdown",
   "id": "automated-warrior",
   "metadata": {},
   "source": [
    "## Random search"
   ]
  },
  {
   "cell_type": "code",
   "execution_count": 60,
   "id": "outdoor-failing",
   "metadata": {},
   "outputs": [
    {
     "name": "stdout",
     "output_type": "stream",
     "text": [
      "Parameters currently in use:\n",
      "\n",
      "{'copy_X': True, 'fit_intercept': True, 'n_jobs': None, 'normalize': False}\n"
     ]
    }
   ],
   "source": [
    "mlr = LinearRegression()\n",
    "\n",
    "# Look at parameters used by our current forest\n",
    "print('Parameters currently in use:\\n')\n",
    "print(mlr.get_params())"
   ]
  },
  {
   "cell_type": "code",
   "execution_count": 61,
   "id": "proper-rebate",
   "metadata": {},
   "outputs": [],
   "source": [
    "parameters = { 'copy_X':[True, False], 'fit_intercept':[True, False], 'n_jobs':[1, 2, 3, 4, 5, 6, 7, 8, None], 'normalize':[True, False]}"
   ]
  },
  {
   "cell_type": "code",
   "execution_count": 62,
   "id": "assured-correlation",
   "metadata": {},
   "outputs": [
    {
     "name": "stderr",
     "output_type": "stream",
     "text": [
      "C:\\Users\\vichu\\anaconda3\\envs\\rstudio\\lib\\site-packages\\sklearn\\model_selection\\_search.py:282: UserWarning: The total space of parameters 72 is smaller than n_iter=100. Running 72 iterations. For exhaustive searches, use GridSearchCV.\n",
      "  % (grid_size, self.n_iter, grid_size), UserWarning)\n",
      "[Parallel(n_jobs=-1)]: Using backend LokyBackend with 8 concurrent workers.\n",
      "[Parallel(n_jobs=-1)]: Done  34 tasks      | elapsed:    0.1s\n"
     ]
    },
    {
     "name": "stdout",
     "output_type": "stream",
     "text": [
      "Fitting 5 folds for each of 72 candidates, totalling 360 fits\n"
     ]
    },
    {
     "name": "stderr",
     "output_type": "stream",
     "text": [
      "[Parallel(n_jobs=-1)]: Done 322 tasks      | elapsed:    0.6s\n",
      "[Parallel(n_jobs=-1)]: Done 360 out of 360 | elapsed:    0.7s finished\n"
     ]
    },
    {
     "data": {
      "text/plain": [
       "RandomizedSearchCV(cv=5, estimator=LinearRegression(), n_iter=100, n_jobs=-1,\n",
       "                   param_distributions={'copy_X': [True, False],\n",
       "                                        'fit_intercept': [True, False],\n",
       "                                        'n_jobs': [1, 2, 3, 4, 5, 6, 7, 8,\n",
       "                                                   None],\n",
       "                                        'normalize': [True, False]},\n",
       "                   verbose=2)"
      ]
     },
     "execution_count": 62,
     "metadata": {},
     "output_type": "execute_result"
    }
   ],
   "source": [
    "mlr_random = RandomizedSearchCV(estimator = mlr, param_distributions = parameters, n_iter = 100, cv = 5, verbose=2, n_jobs = -1)\n",
    "# Fit the random search model\n",
    "mlr_random.fit(X_train, y_train)"
   ]
  },
  {
   "cell_type": "code",
   "execution_count": 63,
   "id": "adapted-processor",
   "metadata": {},
   "outputs": [
    {
     "data": {
      "text/plain": [
       "{'normalize': True, 'n_jobs': 1, 'fit_intercept': False, 'copy_X': True}"
      ]
     },
     "execution_count": 63,
     "metadata": {},
     "output_type": "execute_result"
    }
   ],
   "source": [
    "mlr_random.best_params_"
   ]
  },
  {
   "cell_type": "code",
   "execution_count": 64,
   "id": "innocent-membrane",
   "metadata": {},
   "outputs": [
    {
     "data": {
      "text/plain": [
       "LinearRegression(fit_intercept=False, n_jobs=1, normalize=True)"
      ]
     },
     "execution_count": 64,
     "metadata": {},
     "output_type": "execute_result"
    }
   ],
   "source": [
    "mlr_random.best_estimator_"
   ]
  },
  {
   "cell_type": "markdown",
   "id": "formed-objective",
   "metadata": {},
   "source": [
    "## Grid search"
   ]
  },
  {
   "cell_type": "code",
   "execution_count": 65,
   "id": "departmental-casino",
   "metadata": {},
   "outputs": [
    {
     "name": "stdout",
     "output_type": "stream",
     "text": [
      "Fitting 5 folds for each of 72 candidates, totalling 360 fits\n"
     ]
    },
    {
     "name": "stderr",
     "output_type": "stream",
     "text": [
      "[Parallel(n_jobs=-1)]: Using backend LokyBackend with 8 concurrent workers.\n",
      "[Parallel(n_jobs=-1)]: Done  34 tasks      | elapsed:    0.1s\n",
      "[Parallel(n_jobs=-1)]: Done 322 tasks      | elapsed:    0.6s\n",
      "[Parallel(n_jobs=-1)]: Done 360 out of 360 | elapsed:    0.7s finished\n"
     ]
    },
    {
     "data": {
      "text/plain": [
       "GridSearchCV(estimator=LinearRegression(), n_jobs=-1,\n",
       "             param_grid={'copy_X': [True, False],\n",
       "                         'fit_intercept': [True, False],\n",
       "                         'n_jobs': [1, 2, 3, 4, 5, 6, 7, 8, None],\n",
       "                         'normalize': [True, False]},\n",
       "             verbose=2)"
      ]
     },
     "execution_count": 65,
     "metadata": {},
     "output_type": "execute_result"
    }
   ],
   "source": [
    "# Instantiate the grid search model\n",
    "grid_mlr = GridSearchCV(estimator = mlr, param_grid = parameters, verbose = 2,n_jobs = -1)\n",
    "grid_mlr.fit(X_train, y_train)"
   ]
  },
  {
   "cell_type": "code",
   "execution_count": 66,
   "id": "dominican-board",
   "metadata": {},
   "outputs": [
    {
     "data": {
      "text/plain": [
       "{'copy_X': True, 'fit_intercept': False, 'n_jobs': 1, 'normalize': True}"
      ]
     },
     "execution_count": 66,
     "metadata": {},
     "output_type": "execute_result"
    }
   ],
   "source": [
    "grid_mlr.best_params_"
   ]
  },
  {
   "cell_type": "code",
   "execution_count": 67,
   "id": "uniform-milton",
   "metadata": {},
   "outputs": [
    {
     "data": {
      "text/plain": [
       "LinearRegression(fit_intercept=False, n_jobs=1, normalize=True)"
      ]
     },
     "execution_count": 67,
     "metadata": {},
     "output_type": "execute_result"
    }
   ],
   "source": [
    "grid_mlr.best_estimator_"
   ]
  },
  {
   "cell_type": "markdown",
   "id": "major-capability",
   "metadata": {},
   "source": [
    "## Evaluation"
   ]
  },
  {
   "cell_type": "code",
   "execution_count": 68,
   "id": "centered-think",
   "metadata": {},
   "outputs": [
    {
     "name": "stdout",
     "output_type": "stream",
     "text": [
      "Model Performance\n",
      "Average Error: 144.9949 degrees.\n",
      "Accuracy = 44.39%.\n",
      "\n",
      "\n",
      "Model Performance\n",
      "Average Error: 139.6585 degrees.\n",
      "Accuracy = 47.90%.\n",
      "\n",
      "\n",
      "Improvement of 7.92%.\n"
     ]
    }
   ],
   "source": [
    "base_model = LinearRegression()\n",
    "base_model.fit(X_train, y_train)\n",
    "base_accuracy = evaluate(base_model, X_test, y_test)\n",
    "print(\"\\n\")\n",
    "best_random = mlr_random.best_estimator_\n",
    "random_accuracy = evaluate(best_random, X_test, y_test)\n",
    "print(\"\\n\")\n",
    "print('Improvement of {:0.2f}%.'.format( 100 * (random_accuracy - base_accuracy) / base_accuracy))"
   ]
  },
  {
   "cell_type": "code",
   "execution_count": 69,
   "id": "short-netscape",
   "metadata": {
    "scrolled": true
   },
   "outputs": [
    {
     "name": "stdout",
     "output_type": "stream",
     "text": [
      "Model Performance\n",
      "Average Error: 139.6585 degrees.\n",
      "Accuracy = 47.90%.\n",
      "\n",
      "\n",
      "Improvement of 7.92%.\n"
     ]
    }
   ],
   "source": [
    "best_grid = grid_mlr.best_estimator_\n",
    "grid_accuracy = evaluate(best_grid, X_test, y_test)\n",
    "print(\"\\n\")\n",
    "print('Improvement of {:0.2f}%.'.format( 100 * (grid_accuracy - base_accuracy) / base_accuracy))"
   ]
  },
  {
   "cell_type": "markdown",
   "id": "aboriginal-acceptance",
   "metadata": {},
   "source": [
    "# Decision tree hyper "
   ]
  },
  {
   "cell_type": "code",
   "execution_count": 71,
   "id": "surface-gibson",
   "metadata": {},
   "outputs": [],
   "source": [
    "from sklearn.tree import DecisionTreeRegressor"
   ]
  },
  {
   "cell_type": "markdown",
   "id": "latin-arizona",
   "metadata": {},
   "source": [
    "## Random Search"
   ]
  },
  {
   "cell_type": "code",
   "execution_count": 72,
   "id": "italic-neutral",
   "metadata": {},
   "outputs": [
    {
     "name": "stdout",
     "output_type": "stream",
     "text": [
      "Parameters currently in use:\n",
      "\n",
      "{'ccp_alpha': 0.0, 'criterion': 'mse', 'max_depth': None, 'max_features': None, 'max_leaf_nodes': None, 'min_impurity_decrease': 0.0, 'min_impurity_split': None, 'min_samples_leaf': 1, 'min_samples_split': 2, 'min_weight_fraction_leaf': 0.0, 'presort': 'deprecated', 'random_state': None, 'splitter': 'best'}\n"
     ]
    }
   ],
   "source": [
    "tree = DecisionTreeRegressor()\n",
    "\n",
    "# Look at parameters used by our current forest\n",
    "print('Parameters currently in use:\\n')\n",
    "print(tree.get_params())"
   ]
  },
  {
   "cell_type": "code",
   "execution_count": 73,
   "id": "skilled-covering",
   "metadata": {},
   "outputs": [],
   "source": [
    "parameters = {'criterion':['mse', 'friedman_mse', 'poisson'], 'max_depth':[2, 3, None], 'max_features':['auto', 'sqrt', 'log2'], 'min_samples_leaf':[1, 2, 3, 4, 5, 6, 7, 8, 9, None]}"
   ]
  },
  {
   "cell_type": "code",
   "execution_count": 74,
   "id": "associate-carroll",
   "metadata": {},
   "outputs": [
    {
     "name": "stdout",
     "output_type": "stream",
     "text": [
      "Fitting 5 folds for each of 100 candidates, totalling 500 fits\n"
     ]
    },
    {
     "name": "stderr",
     "output_type": "stream",
     "text": [
      "[Parallel(n_jobs=-1)]: Using backend LokyBackend with 8 concurrent workers.\n",
      "[Parallel(n_jobs=-1)]: Done  34 tasks      | elapsed:    0.1s\n",
      "[Parallel(n_jobs=-1)]: Done 500 out of 500 | elapsed:    0.6s finished\n"
     ]
    },
    {
     "data": {
      "text/plain": [
       "RandomizedSearchCV(cv=5, estimator=DecisionTreeRegressor(), n_iter=100,\n",
       "                   n_jobs=-1,\n",
       "                   param_distributions={'criterion': ['mse', 'friedman_mse',\n",
       "                                                      'poisson'],\n",
       "                                        'max_depth': [2, 3, None],\n",
       "                                        'max_features': ['auto', 'sqrt',\n",
       "                                                         'log2'],\n",
       "                                        'min_samples_leaf': [1, 2, 3, 4, 5, 6,\n",
       "                                                             7, 8, 9, None]},\n",
       "                   verbose=2)"
      ]
     },
     "execution_count": 74,
     "metadata": {},
     "output_type": "execute_result"
    }
   ],
   "source": [
    "tree_random = RandomizedSearchCV(estimator = tree, param_distributions = parameters, n_iter = 100, cv = 5, verbose=2, n_jobs = -1)\n",
    "# Fit the random search model\n",
    "tree_random.fit(X_train, y_train)"
   ]
  },
  {
   "cell_type": "code",
   "execution_count": 75,
   "id": "academic-injury",
   "metadata": {},
   "outputs": [
    {
     "data": {
      "text/plain": [
       "{'min_samples_leaf': 6,\n",
       " 'max_features': 'log2',\n",
       " 'max_depth': None,\n",
       " 'criterion': 'mse'}"
      ]
     },
     "execution_count": 75,
     "metadata": {},
     "output_type": "execute_result"
    }
   ],
   "source": [
    "tree_random.best_params_"
   ]
  },
  {
   "cell_type": "code",
   "execution_count": 76,
   "id": "played-positive",
   "metadata": {},
   "outputs": [
    {
     "data": {
      "text/plain": [
       "DecisionTreeRegressor(max_features='log2', min_samples_leaf=6)"
      ]
     },
     "execution_count": 76,
     "metadata": {},
     "output_type": "execute_result"
    }
   ],
   "source": [
    "tree_random.best_estimator_"
   ]
  },
  {
   "cell_type": "markdown",
   "id": "returning-chess",
   "metadata": {},
   "source": [
    "## Grid search"
   ]
  },
  {
   "cell_type": "code",
   "execution_count": 77,
   "id": "fixed-plain",
   "metadata": {},
   "outputs": [
    {
     "name": "stdout",
     "output_type": "stream",
     "text": [
      "Fitting 5 folds for each of 270 candidates, totalling 1350 fits\n"
     ]
    },
    {
     "name": "stderr",
     "output_type": "stream",
     "text": [
      "[Parallel(n_jobs=-1)]: Using backend LokyBackend with 8 concurrent workers.\n",
      "[Parallel(n_jobs=-1)]: Done  34 tasks      | elapsed:    0.1s\n",
      "[Parallel(n_jobs=-1)]: Done 1306 tasks      | elapsed:    1.7s\n",
      "[Parallel(n_jobs=-1)]: Done 1350 out of 1350 | elapsed:    1.7s finished\n"
     ]
    },
    {
     "data": {
      "text/plain": [
       "GridSearchCV(estimator=DecisionTreeRegressor(), n_jobs=-1,\n",
       "             param_grid={'criterion': ['mse', 'friedman_mse', 'poisson'],\n",
       "                         'max_depth': [2, 3, None],\n",
       "                         'max_features': ['auto', 'sqrt', 'log2'],\n",
       "                         'min_samples_leaf': [1, 2, 3, 4, 5, 6, 7, 8, 9, None]},\n",
       "             verbose=2)"
      ]
     },
     "execution_count": 77,
     "metadata": {},
     "output_type": "execute_result"
    }
   ],
   "source": [
    "# Instantiate the grid search model\n",
    "grid_tree = GridSearchCV(estimator = tree, param_grid = parameters, verbose = 2,n_jobs = -1)\n",
    "grid_tree.fit(X_train, y_train)"
   ]
  },
  {
   "cell_type": "code",
   "execution_count": 79,
   "id": "micro-manor",
   "metadata": {},
   "outputs": [
    {
     "data": {
      "text/plain": [
       "{'criterion': 'friedman_mse',\n",
       " 'max_depth': 3,\n",
       " 'max_features': 'sqrt',\n",
       " 'min_samples_leaf': 9}"
      ]
     },
     "execution_count": 79,
     "metadata": {},
     "output_type": "execute_result"
    }
   ],
   "source": [
    "grid_tree.best_params_"
   ]
  },
  {
   "cell_type": "code",
   "execution_count": 80,
   "id": "worthy-first",
   "metadata": {},
   "outputs": [
    {
     "data": {
      "text/plain": [
       "DecisionTreeRegressor(criterion='friedman_mse', max_depth=3,\n",
       "                      max_features='sqrt', min_samples_leaf=9)"
      ]
     },
     "execution_count": 80,
     "metadata": {},
     "output_type": "execute_result"
    }
   ],
   "source": [
    "grid_tree.best_estimator_"
   ]
  },
  {
   "cell_type": "markdown",
   "id": "peripheral-repository",
   "metadata": {},
   "source": [
    "## Evaluation"
   ]
  },
  {
   "cell_type": "code",
   "execution_count": 81,
   "id": "copyrighted-reception",
   "metadata": {},
   "outputs": [
    {
     "name": "stdout",
     "output_type": "stream",
     "text": [
      "Model Performance\n",
      "Average Error: 210.2628 degrees.\n",
      "Accuracy = 15.92%.\n",
      "\n",
      "\n",
      "Model Performance\n",
      "Average Error: 149.6972 degrees.\n",
      "Accuracy = 60.39%.\n",
      "\n",
      "\n",
      "Improvement of 279.44%.\n"
     ]
    }
   ],
   "source": [
    "base_model = DecisionTreeRegressor()\n",
    "base_model.fit(X_train, y_train)\n",
    "base_accuracy = evaluate(base_model, X_test, y_test)\n",
    "print(\"\\n\")\n",
    "best_random = tree_random.best_estimator_\n",
    "random_accuracy = evaluate(best_random, X_test, y_test)\n",
    "print(\"\\n\")\n",
    "print('Improvement of {:0.2f}%.'.format( 100 * (random_accuracy - base_accuracy) / base_accuracy))"
   ]
  },
  {
   "cell_type": "code",
   "execution_count": 82,
   "id": "stock-slave",
   "metadata": {},
   "outputs": [
    {
     "name": "stdout",
     "output_type": "stream",
     "text": [
      "Model Performance\n",
      "Average Error: 212.4541 degrees.\n",
      "Accuracy = 32.38%.\n",
      "\n",
      "\n",
      "Improvement of 103.48%.\n"
     ]
    }
   ],
   "source": [
    "best_grid = grid_tree.best_estimator_\n",
    "grid_accuracy = evaluate(best_grid, X_test, y_test)\n",
    "print(\"\\n\")\n",
    "print('Improvement of {:0.2f}%.'.format( 100 * (grid_accuracy - base_accuracy) / base_accuracy))"
   ]
  },
  {
   "cell_type": "markdown",
   "id": "noble-multiple",
   "metadata": {},
   "source": [
    "## 3.5 Lasso regression "
   ]
  },
  {
   "cell_type": "code",
   "execution_count": 83,
   "id": "equivalent-character",
   "metadata": {},
   "outputs": [],
   "source": [
    "from sklearn.linear_model import Lasso"
   ]
  },
  {
   "cell_type": "markdown",
   "id": "improved-season",
   "metadata": {},
   "source": [
    "## Random search"
   ]
  },
  {
   "cell_type": "code",
   "execution_count": 84,
   "id": "breeding-bidder",
   "metadata": {},
   "outputs": [
    {
     "name": "stdout",
     "output_type": "stream",
     "text": [
      "Parameters currently in use:\n",
      "\n",
      "{'alpha': 1.0, 'copy_X': True, 'fit_intercept': True, 'max_iter': 1000, 'normalize': False, 'positive': False, 'precompute': False, 'random_state': None, 'selection': 'cyclic', 'tol': 0.0001, 'warm_start': False}\n"
     ]
    }
   ],
   "source": [
    "lso = Lasso()\n",
    "\n",
    "# Look at parameters used by our current forest\n",
    "print('Parameters currently in use:\\n')\n",
    "print(lso.get_params())"
   ]
  },
  {
   "cell_type": "code",
   "execution_count": 87,
   "id": "quarterly-hindu",
   "metadata": {},
   "outputs": [],
   "source": [
    "parameters = {'alpha':[1, 1.5, 2, 5], 'copy_X':[True, False], 'fit_intercept':[True, False], \n",
    "             'max_iter':[1000, 1200, 1400, 1600], 'normalize':[True, False], 'selection':['cyclic', 'random'],\n",
    "             'tol':[1e-3, 1e-4, 1e-5, 1e-6]}"
   ]
  },
  {
   "cell_type": "code",
   "execution_count": 89,
   "id": "iraqi-realtor",
   "metadata": {},
   "outputs": [
    {
     "name": "stdout",
     "output_type": "stream",
     "text": [
      "Fitting 5 folds for each of 100 candidates, totalling 500 fits\n"
     ]
    },
    {
     "name": "stderr",
     "output_type": "stream",
     "text": [
      "[Parallel(n_jobs=-1)]: Using backend LokyBackend with 8 concurrent workers.\n",
      "[Parallel(n_jobs=-1)]: Done  25 tasks      | elapsed:    3.7s\n",
      "[Parallel(n_jobs=-1)]: Done 442 tasks      | elapsed:    4.8s\n",
      "[Parallel(n_jobs=-1)]: Done 500 out of 500 | elapsed:    4.9s finished\n"
     ]
    },
    {
     "data": {
      "text/plain": [
       "RandomizedSearchCV(cv=5, estimator=Lasso(), n_iter=100, n_jobs=-1,\n",
       "                   param_distributions={'alpha': [1, 1.5, 2, 5],\n",
       "                                        'copy_X': [True, False],\n",
       "                                        'fit_intercept': [True, False],\n",
       "                                        'max_iter': [1000, 1200, 1400, 1600],\n",
       "                                        'normalize': [True, False],\n",
       "                                        'selection': ['cyclic', 'random'],\n",
       "                                        'tol': [0.001, 0.0001, 1e-05, 1e-06]},\n",
       "                   verbose=2)"
      ]
     },
     "execution_count": 89,
     "metadata": {},
     "output_type": "execute_result"
    }
   ],
   "source": [
    "lasso_random = RandomizedSearchCV(estimator = lso, param_distributions = parameters, n_iter = 100, cv = 5, verbose=2, n_jobs = -1)\n",
    "# Fit the random search model\n",
    "lasso_random.fit(X_train, y_train)"
   ]
  },
  {
   "cell_type": "code",
   "execution_count": 90,
   "id": "endless-coral",
   "metadata": {},
   "outputs": [
    {
     "data": {
      "text/plain": [
       "{'tol': 1e-06,\n",
       " 'selection': 'random',\n",
       " 'normalize': True,\n",
       " 'max_iter': 1600,\n",
       " 'fit_intercept': True,\n",
       " 'copy_X': True,\n",
       " 'alpha': 2}"
      ]
     },
     "execution_count": 90,
     "metadata": {},
     "output_type": "execute_result"
    }
   ],
   "source": [
    "lasso_random.best_params_"
   ]
  },
  {
   "cell_type": "code",
   "execution_count": 91,
   "id": "copyrighted-being",
   "metadata": {},
   "outputs": [
    {
     "data": {
      "text/plain": [
       "Lasso(alpha=2, max_iter=1600, normalize=True, selection='random', tol=1e-06)"
      ]
     },
     "execution_count": 91,
     "metadata": {},
     "output_type": "execute_result"
    }
   ],
   "source": [
    "lasso_random.best_estimator_"
   ]
  },
  {
   "cell_type": "markdown",
   "id": "found-commons",
   "metadata": {},
   "source": [
    "## Grid search"
   ]
  },
  {
   "cell_type": "code",
   "execution_count": 92,
   "id": "equivalent-parliament",
   "metadata": {},
   "outputs": [
    {
     "name": "stdout",
     "output_type": "stream",
     "text": [
      "Fitting 5 folds for each of 1024 candidates, totalling 5120 fits\n"
     ]
    },
    {
     "name": "stderr",
     "output_type": "stream",
     "text": [
      "[Parallel(n_jobs=-1)]: Using backend LokyBackend with 8 concurrent workers.\n",
      "[Parallel(n_jobs=-1)]: Done  34 tasks      | elapsed:    0.1s\n",
      "[Parallel(n_jobs=-1)]: Done 1552 tasks      | elapsed:    3.9s\n",
      "[Parallel(n_jobs=-1)]: Done 4800 tasks      | elapsed:   11.5s\n",
      "[Parallel(n_jobs=-1)]: Done 5120 out of 5120 | elapsed:   12.2s finished\n"
     ]
    },
    {
     "data": {
      "text/plain": [
       "GridSearchCV(estimator=Lasso(), n_jobs=-1,\n",
       "             param_grid={'alpha': [1, 1.5, 2, 5], 'copy_X': [True, False],\n",
       "                         'fit_intercept': [True, False],\n",
       "                         'max_iter': [1000, 1200, 1400, 1600],\n",
       "                         'normalize': [True, False],\n",
       "                         'selection': ['cyclic', 'random'],\n",
       "                         'tol': [0.001, 0.0001, 1e-05, 1e-06]},\n",
       "             verbose=2)"
      ]
     },
     "execution_count": 92,
     "metadata": {},
     "output_type": "execute_result"
    }
   ],
   "source": [
    "# Instantiate the grid search model\n",
    "grid_lasso = GridSearchCV(estimator = lso, param_grid = parameters, verbose = 2,n_jobs = -1)\n",
    "grid_lasso.fit(X_train, y_train)"
   ]
  },
  {
   "cell_type": "code",
   "execution_count": 93,
   "id": "needed-bargain",
   "metadata": {},
   "outputs": [
    {
     "data": {
      "text/plain": [
       "{'alpha': 2,\n",
       " 'copy_X': False,\n",
       " 'fit_intercept': True,\n",
       " 'max_iter': 1200,\n",
       " 'normalize': True,\n",
       " 'selection': 'random',\n",
       " 'tol': 0.001}"
      ]
     },
     "execution_count": 93,
     "metadata": {},
     "output_type": "execute_result"
    }
   ],
   "source": [
    "grid_lasso.best_params_"
   ]
  },
  {
   "cell_type": "code",
   "execution_count": 94,
   "id": "promotional-processing",
   "metadata": {},
   "outputs": [
    {
     "data": {
      "text/plain": [
       "Lasso(alpha=2, copy_X=False, max_iter=1200, normalize=True, selection='random',\n",
       "      tol=0.001)"
      ]
     },
     "execution_count": 94,
     "metadata": {},
     "output_type": "execute_result"
    }
   ],
   "source": [
    "grid_lasso.best_estimator_"
   ]
  },
  {
   "cell_type": "markdown",
   "id": "increased-cabinet",
   "metadata": {},
   "source": [
    "## Evaluation"
   ]
  },
  {
   "cell_type": "code",
   "execution_count": 95,
   "id": "arabic-halifax",
   "metadata": {},
   "outputs": [
    {
     "name": "stdout",
     "output_type": "stream",
     "text": [
      "Model Performance\n",
      "Average Error: 1719724.8293 degrees.\n",
      "Accuracy = -357721.59%.\n",
      "\n",
      "\n",
      "Model Performance\n",
      "Average Error: 146.6306 degrees.\n",
      "Accuracy = 50.08%.\n",
      "\n",
      "\n",
      "Improvement of -100.01%.\n"
     ]
    }
   ],
   "source": [
    "base_model = Lasso()\n",
    "base_model.fit(X_train, y_train)\n",
    "base_accuracy = evaluate(base_model, X_test, y_test)\n",
    "print(\"\\n\")\n",
    "best_random = lasso_random.best_estimator_\n",
    "random_accuracy = evaluate(best_random, X_test, y_test)\n",
    "print(\"\\n\")\n",
    "print('Improvement of {:0.2f}%.'.format( 100 * (random_accuracy - base_accuracy) / base_accuracy))"
   ]
  },
  {
   "cell_type": "code",
   "execution_count": 96,
   "id": "civil-melissa",
   "metadata": {},
   "outputs": [
    {
     "name": "stdout",
     "output_type": "stream",
     "text": [
      "Model Performance\n",
      "Average Error: 147.1240 degrees.\n",
      "Accuracy = 50.02%.\n",
      "\n",
      "\n",
      "Improvement of -100.01%.\n"
     ]
    }
   ],
   "source": [
    "best_grid = grid_lasso.best_estimator_\n",
    "grid_accuracy = evaluate(best_grid, X_test, y_test)\n",
    "print(\"\\n\")\n",
    "print('Improvement of {:0.2f}%.'.format( 100 * (grid_accuracy - base_accuracy) / base_accuracy))"
   ]
  },
  {
   "cell_type": "markdown",
   "id": "dated-grain",
   "metadata": {},
   "source": [
    "# Ridge regression hyper"
   ]
  },
  {
   "cell_type": "code",
   "execution_count": 98,
   "id": "north-referral",
   "metadata": {},
   "outputs": [],
   "source": [
    "from sklearn.linear_model import Ridge"
   ]
  },
  {
   "cell_type": "markdown",
   "id": "hourly-grace",
   "metadata": {},
   "source": [
    "## Random search"
   ]
  },
  {
   "cell_type": "code",
   "execution_count": 99,
   "id": "tired-rabbit",
   "metadata": {},
   "outputs": [
    {
     "name": "stdout",
     "output_type": "stream",
     "text": [
      "Parameters currently in use:\n",
      "\n",
      "{'alpha': 1.0, 'copy_X': True, 'fit_intercept': True, 'max_iter': None, 'normalize': False, 'random_state': None, 'solver': 'auto', 'tol': 0.001}\n"
     ]
    }
   ],
   "source": [
    "rid = Ridge()\n",
    "\n",
    "# Look at parameters used by our current forest\n",
    "print('Parameters currently in use:\\n')\n",
    "print(rid.get_params())"
   ]
  },
  {
   "cell_type": "code",
   "execution_count": 100,
   "id": "practical-commonwealth",
   "metadata": {},
   "outputs": [],
   "source": [
    "parameters = {'alpha':[1, 1.5, 2, 5], 'copy_X':[True, False], 'fit_intercept':[True, False], \n",
    "             'max_iter':[1000, 1200, 1400, 1600], 'normalize':[True, False], 'solver':['auto', 'svd', 'cholesky', 'lsqr', 'sag', 'saga', 'sparse_cg'],\n",
    "             'tol':[1e-3, 1e-4, 1e-5, 1e-6]}"
   ]
  },
  {
   "cell_type": "code",
   "execution_count": 101,
   "id": "exempt-identifier",
   "metadata": {},
   "outputs": [
    {
     "name": "stdout",
     "output_type": "stream",
     "text": [
      "Fitting 5 folds for each of 100 candidates, totalling 500 fits\n"
     ]
    },
    {
     "name": "stderr",
     "output_type": "stream",
     "text": [
      "[Parallel(n_jobs=-1)]: Using backend LokyBackend with 8 concurrent workers.\n",
      "[Parallel(n_jobs=-1)]: Done  36 tasks      | elapsed:    0.6s\n",
      "[Parallel(n_jobs=-1)]: Done 278 tasks      | elapsed:    3.7s\n",
      "[Parallel(n_jobs=-1)]: Done 500 out of 500 | elapsed:    4.1s finished\n"
     ]
    },
    {
     "data": {
      "text/plain": [
       "RandomizedSearchCV(cv=5, estimator=Ridge(), n_iter=100, n_jobs=-1,\n",
       "                   param_distributions={'alpha': [1, 1.5, 2, 5],\n",
       "                                        'copy_X': [True, False],\n",
       "                                        'fit_intercept': [True, False],\n",
       "                                        'max_iter': [1000, 1200, 1400, 1600],\n",
       "                                        'normalize': [True, False],\n",
       "                                        'solver': ['auto', 'svd', 'cholesky',\n",
       "                                                   'lsqr', 'sag', 'saga',\n",
       "                                                   'sparse_cg'],\n",
       "                                        'tol': [0.001, 0.0001, 1e-05, 1e-06]},\n",
       "                   verbose=2)"
      ]
     },
     "execution_count": 101,
     "metadata": {},
     "output_type": "execute_result"
    }
   ],
   "source": [
    "ridge_random = RandomizedSearchCV(estimator = rid, param_distributions = parameters, n_iter = 100, cv = 5, verbose=2, n_jobs = -1)\n",
    "# Fit the random search model\n",
    "ridge_random.fit(X_train, y_train)"
   ]
  },
  {
   "cell_type": "code",
   "execution_count": 102,
   "id": "jewish-policy",
   "metadata": {},
   "outputs": [
    {
     "data": {
      "text/plain": [
       "{'tol': 0.001,\n",
       " 'solver': 'sag',\n",
       " 'normalize': False,\n",
       " 'max_iter': 1200,\n",
       " 'fit_intercept': True,\n",
       " 'copy_X': False,\n",
       " 'alpha': 1}"
      ]
     },
     "execution_count": 102,
     "metadata": {},
     "output_type": "execute_result"
    }
   ],
   "source": [
    "ridge_random.best_params_"
   ]
  },
  {
   "cell_type": "code",
   "execution_count": 103,
   "id": "third-point",
   "metadata": {},
   "outputs": [
    {
     "data": {
      "text/plain": [
       "Ridge(alpha=1, copy_X=False, max_iter=1200, solver='sag')"
      ]
     },
     "execution_count": 103,
     "metadata": {},
     "output_type": "execute_result"
    }
   ],
   "source": [
    "ridge_random.best_estimator_"
   ]
  },
  {
   "cell_type": "markdown",
   "id": "satellite-jordan",
   "metadata": {},
   "source": [
    "## Grid search"
   ]
  },
  {
   "cell_type": "code",
   "execution_count": 104,
   "id": "expensive-canvas",
   "metadata": {},
   "outputs": [
    {
     "name": "stdout",
     "output_type": "stream",
     "text": [
      "Fitting 5 folds for each of 3584 candidates, totalling 17920 fits\n"
     ]
    },
    {
     "name": "stderr",
     "output_type": "stream",
     "text": [
      "[Parallel(n_jobs=-1)]: Using backend LokyBackend with 8 concurrent workers.\n",
      "[Parallel(n_jobs=-1)]: Done  34 tasks      | elapsed:    0.1s\n",
      "[Parallel(n_jobs=-1)]: Done 1552 tasks      | elapsed:    2.6s\n",
      "[Parallel(n_jobs=-1)]: Done 4800 tasks      | elapsed:    8.1s\n",
      "[Parallel(n_jobs=-1)]: Done 9328 tasks      | elapsed:   15.9s\n",
      "[Parallel(n_jobs=-1)]: Done 15168 tasks      | elapsed:   26.1s\n",
      "[Parallel(n_jobs=-1)]: Done 17920 out of 17920 | elapsed:   30.3s finished\n"
     ]
    },
    {
     "data": {
      "text/plain": [
       "GridSearchCV(estimator=Ridge(), n_jobs=-1,\n",
       "             param_grid={'alpha': [1, 1.5, 2, 5], 'copy_X': [True, False],\n",
       "                         'fit_intercept': [True, False],\n",
       "                         'max_iter': [1000, 1200, 1400, 1600],\n",
       "                         'normalize': [True, False],\n",
       "                         'solver': ['auto', 'svd', 'cholesky', 'lsqr', 'sag',\n",
       "                                    'saga', 'sparse_cg'],\n",
       "                         'tol': [0.001, 0.0001, 1e-05, 1e-06]},\n",
       "             verbose=2)"
      ]
     },
     "execution_count": 104,
     "metadata": {},
     "output_type": "execute_result"
    }
   ],
   "source": [
    "# Instantiate the grid search model\n",
    "grid_ridge = GridSearchCV(estimator = rid, param_grid = parameters, verbose = 2,n_jobs = -1)\n",
    "grid_ridge.fit(X_train, y_train)"
   ]
  },
  {
   "cell_type": "code",
   "execution_count": 105,
   "id": "instant-manufacturer",
   "metadata": {},
   "outputs": [
    {
     "data": {
      "text/plain": [
       "{'alpha': 1,\n",
       " 'copy_X': False,\n",
       " 'fit_intercept': True,\n",
       " 'max_iter': 1400,\n",
       " 'normalize': False,\n",
       " 'solver': 'saga',\n",
       " 'tol': 0.001}"
      ]
     },
     "execution_count": 105,
     "metadata": {},
     "output_type": "execute_result"
    }
   ],
   "source": [
    "grid_ridge.best_params_"
   ]
  },
  {
   "cell_type": "code",
   "execution_count": 106,
   "id": "introductory-filling",
   "metadata": {},
   "outputs": [
    {
     "data": {
      "text/plain": [
       "Ridge(alpha=1, copy_X=False, max_iter=1400, solver='saga')"
      ]
     },
     "execution_count": 106,
     "metadata": {},
     "output_type": "execute_result"
    }
   ],
   "source": [
    "grid_ridge.best_estimator_"
   ]
  },
  {
   "cell_type": "markdown",
   "id": "interpreted-liechtenstein",
   "metadata": {},
   "source": [
    "## Evaluation"
   ]
  },
  {
   "cell_type": "code",
   "execution_count": 107,
   "id": "deluxe-tamil",
   "metadata": {},
   "outputs": [
    {
     "name": "stdout",
     "output_type": "stream",
     "text": [
      "Model Performance\n",
      "Average Error: 1598700.9449 degrees.\n",
      "Accuracy = -333590.21%.\n",
      "\n",
      "\n",
      "Model Performance\n",
      "Average Error: 1598627.9826 degrees.\n",
      "Accuracy = -333571.50%.\n",
      "\n",
      "\n",
      "Improvement of -0.01%.\n"
     ]
    }
   ],
   "source": [
    "base_model = Ridge()\n",
    "base_model.fit(X_train, y_train)\n",
    "base_accuracy = evaluate(base_model, X_test, y_test)\n",
    "print(\"\\n\")\n",
    "best_random = ridge_random.best_estimator_\n",
    "random_accuracy = evaluate(best_random, X_test, y_test)\n",
    "print(\"\\n\")\n",
    "print('Improvement of {:0.2f}%.'.format( 100 * (random_accuracy - base_accuracy) / base_accuracy))"
   ]
  },
  {
   "cell_type": "code",
   "execution_count": 108,
   "id": "dynamic-placement",
   "metadata": {},
   "outputs": [
    {
     "name": "stdout",
     "output_type": "stream",
     "text": [
      "Model Performance\n",
      "Average Error: 1599022.0556 degrees.\n",
      "Accuracy = -333672.91%.\n",
      "\n",
      "\n",
      "Improvement of 0.02%.\n"
     ]
    }
   ],
   "source": [
    "best_grid = grid_ridge.best_estimator_\n",
    "grid_accuracy = evaluate(best_grid, X_test, y_test)\n",
    "print(\"\\n\")\n",
    "print('Improvement of {:0.2f}%.'.format( 100 * (grid_accuracy - base_accuracy) / base_accuracy))"
   ]
  },
  {
   "cell_type": "markdown",
   "id": "missing-group",
   "metadata": {},
   "source": [
    "# Elastic Net hyper"
   ]
  },
  {
   "cell_type": "code",
   "execution_count": 109,
   "id": "prerequisite-tracker",
   "metadata": {},
   "outputs": [],
   "source": [
    "from sklearn.linear_model import ElasticNet"
   ]
  },
  {
   "cell_type": "markdown",
   "id": "acting-scholarship",
   "metadata": {},
   "source": [
    "## Random search"
   ]
  },
  {
   "cell_type": "code",
   "execution_count": 110,
   "id": "otherwise-still",
   "metadata": {},
   "outputs": [
    {
     "name": "stdout",
     "output_type": "stream",
     "text": [
      "Parameters currently in use:\n",
      "\n",
      "{'alpha': 1.0, 'copy_X': True, 'fit_intercept': True, 'l1_ratio': 0.5, 'max_iter': 1000, 'normalize': False, 'positive': False, 'precompute': False, 'random_state': None, 'selection': 'cyclic', 'tol': 0.0001, 'warm_start': False}\n"
     ]
    }
   ],
   "source": [
    "enet = ElasticNet()\n",
    "\n",
    "# Look at parameters used by our current forest\n",
    "print('Parameters currently in use:\\n')\n",
    "print(enet.get_params())"
   ]
  },
  {
   "cell_type": "code",
   "execution_count": 111,
   "id": "reported-flashing",
   "metadata": {},
   "outputs": [],
   "source": [
    "parameters = {'alpha':[1, 1.5, 2, 5, 10], 'copy_X':[True, False], 'fit_intercept':[True, False], \n",
    "             'max_iter':[1000, 1200, 1400, 1600, 1800], 'normalize':[True, False], 'l1_ratio':[0, 0.25, 0.5, 0.75, 1],\n",
    "             'tol':[1e-3, 1e-4, 1e-5, 1e-6], 'selection':['cyclic', 'random']}"
   ]
  },
  {
   "cell_type": "code",
   "execution_count": 112,
   "id": "muslim-pencil",
   "metadata": {},
   "outputs": [
    {
     "name": "stdout",
     "output_type": "stream",
     "text": [
      "Fitting 5 folds for each of 100 candidates, totalling 500 fits\n"
     ]
    },
    {
     "name": "stderr",
     "output_type": "stream",
     "text": [
      "[Parallel(n_jobs=-1)]: Using backend LokyBackend with 8 concurrent workers.\n",
      "[Parallel(n_jobs=-1)]: Done  25 tasks      | elapsed:    3.7s\n",
      "[Parallel(n_jobs=-1)]: Done 442 tasks      | elapsed:    4.7s\n",
      "[Parallel(n_jobs=-1)]: Done 500 out of 500 | elapsed:    4.8s finished\n"
     ]
    },
    {
     "data": {
      "text/plain": [
       "RandomizedSearchCV(cv=5, estimator=ElasticNet(), n_iter=100, n_jobs=-1,\n",
       "                   param_distributions={'alpha': [1, 1.5, 2, 5, 10],\n",
       "                                        'copy_X': [True, False],\n",
       "                                        'fit_intercept': [True, False],\n",
       "                                        'l1_ratio': [0, 0.25, 0.5, 0.75, 1],\n",
       "                                        'max_iter': [1000, 1200, 1400, 1600,\n",
       "                                                     1800],\n",
       "                                        'normalize': [True, False],\n",
       "                                        'selection': ['cyclic', 'random'],\n",
       "                                        'tol': [0.001, 0.0001, 1e-05, 1e-06]},\n",
       "                   verbose=2)"
      ]
     },
     "execution_count": 112,
     "metadata": {},
     "output_type": "execute_result"
    }
   ],
   "source": [
    "enet_random = RandomizedSearchCV(estimator = enet, param_distributions = parameters, n_iter = 100, cv = 5, verbose=2, n_jobs = -1)\n",
    "# Fit the random search model\n",
    "enet_random.fit(X_train, y_train)"
   ]
  },
  {
   "cell_type": "code",
   "execution_count": 113,
   "id": "boring-evening",
   "metadata": {
    "scrolled": false
   },
   "outputs": [
    {
     "data": {
      "text/plain": [
       "{'tol': 1e-05,\n",
       " 'selection': 'random',\n",
       " 'normalize': False,\n",
       " 'max_iter': 1800,\n",
       " 'l1_ratio': 1,\n",
       " 'fit_intercept': True,\n",
       " 'copy_X': True,\n",
       " 'alpha': 2}"
      ]
     },
     "execution_count": 113,
     "metadata": {},
     "output_type": "execute_result"
    }
   ],
   "source": [
    "enet_random.best_params_"
   ]
  },
  {
   "cell_type": "code",
   "execution_count": 114,
   "id": "likely-raising",
   "metadata": {},
   "outputs": [
    {
     "data": {
      "text/plain": [
       "ElasticNet(alpha=2, l1_ratio=1, max_iter=1800, selection='random', tol=1e-05)"
      ]
     },
     "execution_count": 114,
     "metadata": {},
     "output_type": "execute_result"
    }
   ],
   "source": [
    "enet_random.best_estimator_"
   ]
  },
  {
   "cell_type": "markdown",
   "id": "seasonal-sympathy",
   "metadata": {},
   "source": [
    "## Grid search"
   ]
  },
  {
   "cell_type": "code",
   "execution_count": 115,
   "id": "chronic-explorer",
   "metadata": {},
   "outputs": [
    {
     "name": "stdout",
     "output_type": "stream",
     "text": [
      "Fitting 5 folds for each of 8000 candidates, totalling 40000 fits\n"
     ]
    },
    {
     "name": "stderr",
     "output_type": "stream",
     "text": [
      "[Parallel(n_jobs=-1)]: Using backend LokyBackend with 8 concurrent workers.\n",
      "[Parallel(n_jobs=-1)]: Done  34 tasks      | elapsed:    0.1s\n",
      "[Parallel(n_jobs=-1)]: Done 1040 tasks      | elapsed:    2.5s\n",
      "[Parallel(n_jobs=-1)]: Done 4288 tasks      | elapsed:    9.0s\n",
      "[Parallel(n_jobs=-1)]: Done 8816 tasks      | elapsed:   17.4s\n",
      "[Parallel(n_jobs=-1)]: Done 14656 tasks      | elapsed:   28.4s\n",
      "[Parallel(n_jobs=-1)]: Done 21776 tasks      | elapsed:   41.5s\n",
      "[Parallel(n_jobs=-1)]: Done 30208 tasks      | elapsed:   59.1s\n",
      "[Parallel(n_jobs=-1)]: Done 39845 tasks      | elapsed:  1.3min\n",
      "[Parallel(n_jobs=-1)]: Done 40000 out of 40000 | elapsed:  1.3min finished\n"
     ]
    },
    {
     "data": {
      "text/plain": [
       "GridSearchCV(estimator=ElasticNet(), n_jobs=-1,\n",
       "             param_grid={'alpha': [1, 1.5, 2, 5, 10], 'copy_X': [True, False],\n",
       "                         'fit_intercept': [True, False],\n",
       "                         'l1_ratio': [0, 0.25, 0.5, 0.75, 1],\n",
       "                         'max_iter': [1000, 1200, 1400, 1600, 1800],\n",
       "                         'normalize': [True, False],\n",
       "                         'selection': ['cyclic', 'random'],\n",
       "                         'tol': [0.001, 0.0001, 1e-05, 1e-06]},\n",
       "             verbose=2)"
      ]
     },
     "execution_count": 115,
     "metadata": {},
     "output_type": "execute_result"
    }
   ],
   "source": [
    "# Instantiate the grid search model\n",
    "grid_enet = GridSearchCV(estimator = enet, param_grid = parameters, verbose = 2,n_jobs = -1)\n",
    "grid_enet.fit(X_train, y_train)"
   ]
  },
  {
   "cell_type": "code",
   "execution_count": 116,
   "id": "surrounded-ultimate",
   "metadata": {},
   "outputs": [
    {
     "data": {
      "text/plain": [
       "{'alpha': 2,\n",
       " 'copy_X': False,\n",
       " 'fit_intercept': True,\n",
       " 'l1_ratio': 1,\n",
       " 'max_iter': 1200,\n",
       " 'normalize': False,\n",
       " 'selection': 'random',\n",
       " 'tol': 0.001}"
      ]
     },
     "execution_count": 116,
     "metadata": {},
     "output_type": "execute_result"
    }
   ],
   "source": [
    "grid_enet.best_params_"
   ]
  },
  {
   "cell_type": "code",
   "execution_count": 117,
   "id": "owned-transcript",
   "metadata": {},
   "outputs": [
    {
     "data": {
      "text/plain": [
       "ElasticNet(alpha=2, copy_X=False, l1_ratio=1, max_iter=1200, selection='random',\n",
       "           tol=0.001)"
      ]
     },
     "execution_count": 117,
     "metadata": {},
     "output_type": "execute_result"
    }
   ],
   "source": [
    "grid_enet.best_estimator_"
   ]
  },
  {
   "cell_type": "markdown",
   "id": "requested-prompt",
   "metadata": {},
   "source": [
    "## Evaluation"
   ]
  },
  {
   "cell_type": "code",
   "execution_count": 118,
   "id": "latin-rapid",
   "metadata": {},
   "outputs": [
    {
     "name": "stdout",
     "output_type": "stream",
     "text": [
      "Model Performance\n",
      "Average Error: 228686.6383 degrees.\n",
      "Accuracy = -48949.08%.\n",
      "\n",
      "\n",
      "Model Performance\n",
      "Average Error: 1790928.6199 degrees.\n",
      "Accuracy = -375135.51%.\n",
      "\n",
      "\n",
      "Improvement of 666.38%.\n"
     ]
    }
   ],
   "source": [
    "base_model = ElasticNet()\n",
    "base_model.fit(X_train, y_train)\n",
    "base_accuracy = evaluate(base_model, X_test, y_test)\n",
    "print(\"\\n\")\n",
    "best_random = enet_random.best_estimator_\n",
    "random_accuracy = evaluate(best_random, X_test, y_test)\n",
    "print(\"\\n\")\n",
    "print('Improvement of {:0.2f}%.'.format( 100 * (random_accuracy - base_accuracy) / base_accuracy))"
   ]
  },
  {
   "cell_type": "code",
   "execution_count": 119,
   "id": "wrong-information",
   "metadata": {},
   "outputs": [
    {
     "name": "stdout",
     "output_type": "stream",
     "text": [
      "Model Performance\n",
      "Average Error: 1599022.0556 degrees.\n",
      "Accuracy = -333672.91%.\n",
      "\n",
      "\n",
      "Improvement of 581.67%.\n"
     ]
    }
   ],
   "source": [
    "best_grid = grid_ridge.best_estimator_\n",
    "grid_accuracy = evaluate(best_grid, X_test, y_test)\n",
    "print(\"\\n\")\n",
    "print('Improvement of {:0.2f}%.'.format( 100 * (grid_accuracy - base_accuracy) / base_accuracy))"
   ]
  },
  {
   "cell_type": "code",
   "execution_count": null,
   "id": "pleasant-crazy",
   "metadata": {},
   "outputs": [],
   "source": []
  }
 ],
 "metadata": {
  "kernelspec": {
   "display_name": "Python 3",
   "language": "python",
   "name": "python3"
  },
  "language_info": {
   "codemirror_mode": {
    "name": "ipython",
    "version": 3
   },
   "file_extension": ".py",
   "mimetype": "text/x-python",
   "name": "python",
   "nbconvert_exporter": "python",
   "pygments_lexer": "ipython3",
   "version": "3.7.1"
  }
 },
 "nbformat": 4,
 "nbformat_minor": 5
}
