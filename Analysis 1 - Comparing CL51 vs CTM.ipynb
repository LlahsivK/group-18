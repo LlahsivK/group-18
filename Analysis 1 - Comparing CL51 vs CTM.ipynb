{
 "cells": [
  {
   "cell_type": "code",
   "execution_count": 1,
   "metadata": {},
   "outputs": [],
   "source": [
    "import pandas as pd\n",
    "import matplotlib.pyplot as plt\n",
    "import numpy as np\n",
    "from sklearn.impute import SimpleImputer \n",
    "from datetime import datetime\n",
    "from datetime import date\n",
    "import re\n",
    "\n",
    "%matplotlib inline\n",
    "\n",
    "#Set path dependencies\n",
    "data_path = \"D:\\MSDS\\DS Project\\Data\""
   ]
  },
  {
   "cell_type": "markdown",
   "metadata": {},
   "source": [
    "# 1. Data pre-processing"
   ]
  },
  {
   "cell_type": "markdown",
   "metadata": {},
   "source": [
    "Pre-processing pipeline as follows:\n",
    "<ol>\n",
    "    <li>Read CL 51 data</li>\n",
    "        <ol>\n",
    "            <li>A datetime stamp is created from data</li>\n",
    "            <li>Imputation is performed on the BL height based on linear interpolation on time</li>\n",
    "        </ol>\n",
    "    <li>Read CTM data</li>\n",
    "        <ol>\n",
    "            <li>Time is converted from UTC to AEST to bring this inline with CL51 info (by adding 10 hours)</li>\n",
    "            <li>Datetime stamp is similarly created</li>\n",
    "        </ol>\n",
    "    <li>Adjust CL 51 data format</li>\n",
    "        <ol>\n",
    "            <li>A \"date hour\" key is created</li>\n",
    "        </ol>\n",
    "    <li>Merge CL 51 data with CTM data based on key created above</li>\n",
    "</ol>    "
   ]
  },
  {
   "cell_type": "markdown",
   "metadata": {},
   "source": [
    "## 1.1 Read CL51 data"
   ]
  },
  {
   "cell_type": "code",
   "execution_count": 2,
   "metadata": {},
   "outputs": [],
   "source": [
    "'''\n",
    "1.1 Import CL51 data\n",
    "'''\n",
    "cl51_data_path = \"\\\\CL51\"\n",
    "\n",
    "cl51_data_fn_merriwa = ['L3_DEFAULT_0_20210212_Merriwa','L3_DEFAULT_0_20210213_Merriwa',\n",
    "                        'L3_DEFAULT_0_20210214_Merriwa', 'L3_DEFAULT_0_20210215_Merriwa',\n",
    "                       'L3_DEFAULT_0_20210216_Merriwa','L3_DEFAULT_0_20210217_Merriwa', \n",
    "                       'L3_DEFAULT_0_20210218_Merriwa']\n",
    "\n",
    "#Use RE\n",
    "cl51_data_fn_lidcombe = [re.sub('Merriwa', 'Lidcombe',data) for data in cl51_data_fn_merriwa]\n",
    "\n",
    "cl51_full_file_path_merriwa = [data_path+cl51_data_path+'\\\\'+path+'.csv' for path in cl51_data_fn_merriwa]\n",
    "cl51_full_file_path_lidcombe = [data_path+cl51_data_path+'\\\\'+path+'.csv' for path in cl51_data_fn_lidcombe]\n",
    "\n",
    "#Initialise a Dataframe with first table\n",
    "cl51_df_merriwa = pd.read_csv(cl51_full_file_path_merriwa[0])\n",
    "cl51_df_lidcombe = pd.read_csv(cl51_full_file_path_lidcombe[0])\n",
    "\n",
    "#Loop through the rest of the data and append. Note both data is same length\n",
    "for i in range(1,len(cl51_full_file_path_merriwa)):\n",
    "    cl51_df_merriwa = cl51_df_merriwa.append(pd.read_csv(cl51_full_file_path_merriwa[i]), ignore_index = True)\n",
    "    cl51_df_lidcombe = cl51_df_lidcombe.append(pd.read_csv(cl51_full_file_path_lidcombe[i]), ignore_index = True)\n",
    "    \n",
    "#Set -999 values to np.nan\n",
    "cl51_df_merriwa = cl51_df_merriwa.replace(-999, np.nan)\n",
    "cl51_df_lidcombe = cl51_df_lidcombe.replace(-999, np.nan)"
   ]
  },
  {
   "cell_type": "code",
   "execution_count": 3,
   "metadata": {},
   "outputs": [],
   "source": [
    "#Further breakdown the time stamp\n",
    "#First convert to datetime object\n",
    "cl51_df_merriwa['datetime'] = pd.to_datetime(cl51_df_merriwa['# Time'], format='%d/%m/%Y %H:%M:%S')\n",
    "cl51_df_lidcombe['datetime'] = pd.to_datetime(cl51_df_lidcombe['# Time'], format='%d/%m/%Y %H:%M:%S')\n"
   ]
  },
  {
   "cell_type": "code",
   "execution_count": 4,
   "metadata": {
    "scrolled": true
   },
   "outputs": [],
   "source": [
    "'''\n",
    "Imputation\n",
    "\n",
    "Strategy: Use df.interpolate method = time\n",
    "'''\n",
    "#Reset index\n",
    "cl51_df_merriwa = cl51_df_merriwa.set_index('datetime')\n",
    "cl51_df_lidcombe = cl51_df_lidcombe.set_index('datetime')\n",
    "\n",
    "#Define a new column\n",
    "cl51_df_merriwa = cl51_df_merriwa.assign(revised_bl_height=cl51_df_merriwa.bl_height.interpolate(method='time'))\n",
    "cl51_df_lidcombe = cl51_df_lidcombe.assign(revised_bl_height=cl51_df_lidcombe.bl_height.interpolate(method='time'))\n"
   ]
  },
  {
   "cell_type": "code",
   "execution_count": 5,
   "metadata": {
    "scrolled": true
   },
   "outputs": [
    {
     "data": {
      "text/html": [
       "<div>\n",
       "<style scoped>\n",
       "    .dataframe tbody tr th:only-of-type {\n",
       "        vertical-align: middle;\n",
       "    }\n",
       "\n",
       "    .dataframe tbody tr th {\n",
       "        vertical-align: top;\n",
       "    }\n",
       "\n",
       "    .dataframe thead th {\n",
       "        text-align: right;\n",
       "    }\n",
       "</style>\n",
       "<table border=\"1\" class=\"dataframe\">\n",
       "  <thead>\n",
       "    <tr style=\"text-align: right;\">\n",
       "      <th></th>\n",
       "      <th># Time</th>\n",
       "      <th>Layer_QualityIndex</th>\n",
       "      <th>bl_height</th>\n",
       "      <th>Mean_Layer_Height</th>\n",
       "      <th>n_BL</th>\n",
       "      <th>cloud_stat</th>\n",
       "      <th>cloud_dat</th>\n",
       "      <th>revised_bl_height</th>\n",
       "    </tr>\n",
       "    <tr>\n",
       "      <th>datetime</th>\n",
       "      <th></th>\n",
       "      <th></th>\n",
       "      <th></th>\n",
       "      <th></th>\n",
       "      <th></th>\n",
       "      <th></th>\n",
       "      <th></th>\n",
       "      <th></th>\n",
       "    </tr>\n",
       "  </thead>\n",
       "  <tbody>\n",
       "    <tr>\n",
       "      <td>2021-02-12 11:00:00</td>\n",
       "      <td>12/02/2021 11:00:00</td>\n",
       "      <td>NaN</td>\n",
       "      <td>2090.0</td>\n",
       "      <td>NaN</td>\n",
       "      <td>3</td>\n",
       "      <td>1</td>\n",
       "      <td>8430.0</td>\n",
       "      <td>2090.0</td>\n",
       "    </tr>\n",
       "    <tr>\n",
       "      <td>2021-02-12 11:00:32</td>\n",
       "      <td>12/02/2021 11:00:32</td>\n",
       "      <td>NaN</td>\n",
       "      <td>1430.0</td>\n",
       "      <td>NaN</td>\n",
       "      <td>3</td>\n",
       "      <td>1</td>\n",
       "      <td>8430.0</td>\n",
       "      <td>1430.0</td>\n",
       "    </tr>\n",
       "    <tr>\n",
       "      <td>2021-02-12 11:00:48</td>\n",
       "      <td>12/02/2021 11:00:48</td>\n",
       "      <td>NaN</td>\n",
       "      <td>1410.0</td>\n",
       "      <td>NaN</td>\n",
       "      <td>3</td>\n",
       "      <td>1</td>\n",
       "      <td>8430.0</td>\n",
       "      <td>1410.0</td>\n",
       "    </tr>\n",
       "    <tr>\n",
       "      <td>2021-02-12 11:01:04</td>\n",
       "      <td>12/02/2021 11:01:04</td>\n",
       "      <td>NaN</td>\n",
       "      <td>1380.0</td>\n",
       "      <td>NaN</td>\n",
       "      <td>3</td>\n",
       "      <td>1</td>\n",
       "      <td>8430.0</td>\n",
       "      <td>1380.0</td>\n",
       "    </tr>\n",
       "    <tr>\n",
       "      <td>2021-02-12 11:01:20</td>\n",
       "      <td>12/02/2021 11:01:20</td>\n",
       "      <td>NaN</td>\n",
       "      <td>1400.0</td>\n",
       "      <td>NaN</td>\n",
       "      <td>3</td>\n",
       "      <td>1</td>\n",
       "      <td>8400.0</td>\n",
       "      <td>1400.0</td>\n",
       "    </tr>\n",
       "    <tr>\n",
       "      <td>...</td>\n",
       "      <td>...</td>\n",
       "      <td>...</td>\n",
       "      <td>...</td>\n",
       "      <td>...</td>\n",
       "      <td>...</td>\n",
       "      <td>...</td>\n",
       "      <td>...</td>\n",
       "      <td>...</td>\n",
       "    </tr>\n",
       "    <tr>\n",
       "      <td>2021-02-19 10:58:40</td>\n",
       "      <td>19/02/2021 10:58:40</td>\n",
       "      <td>2.0</td>\n",
       "      <td>NaN</td>\n",
       "      <td>270.0</td>\n",
       "      <td>3</td>\n",
       "      <td>1</td>\n",
       "      <td>1940.0</td>\n",
       "      <td>500.0</td>\n",
       "    </tr>\n",
       "    <tr>\n",
       "      <td>2021-02-19 10:58:56</td>\n",
       "      <td>19/02/2021 10:58:56</td>\n",
       "      <td>2.0</td>\n",
       "      <td>NaN</td>\n",
       "      <td>270.0</td>\n",
       "      <td>3</td>\n",
       "      <td>3</td>\n",
       "      <td>640.0</td>\n",
       "      <td>500.0</td>\n",
       "    </tr>\n",
       "    <tr>\n",
       "      <td>2021-02-19 10:59:12</td>\n",
       "      <td>19/02/2021 10:59:12</td>\n",
       "      <td>2.0</td>\n",
       "      <td>NaN</td>\n",
       "      <td>270.0</td>\n",
       "      <td>3</td>\n",
       "      <td>3</td>\n",
       "      <td>640.0</td>\n",
       "      <td>500.0</td>\n",
       "    </tr>\n",
       "    <tr>\n",
       "      <td>2021-02-19 10:59:28</td>\n",
       "      <td>19/02/2021 10:59:28</td>\n",
       "      <td>2.0</td>\n",
       "      <td>NaN</td>\n",
       "      <td>270.0</td>\n",
       "      <td>3</td>\n",
       "      <td>3</td>\n",
       "      <td>640.0</td>\n",
       "      <td>500.0</td>\n",
       "    </tr>\n",
       "    <tr>\n",
       "      <td>2021-02-19 10:59:44</td>\n",
       "      <td>19/02/2021 10:59:44</td>\n",
       "      <td>2.0</td>\n",
       "      <td>NaN</td>\n",
       "      <td>270.0</td>\n",
       "      <td>3</td>\n",
       "      <td>1</td>\n",
       "      <td>1990.0</td>\n",
       "      <td>500.0</td>\n",
       "    </tr>\n",
       "  </tbody>\n",
       "</table>\n",
       "<p>32833 rows × 8 columns</p>\n",
       "</div>"
      ],
      "text/plain": [
       "                                  # Time   Layer_QualityIndex  bl_height  \\\n",
       "datetime                                                                   \n",
       "2021-02-12 11:00:00  12/02/2021 11:00:00                  NaN     2090.0   \n",
       "2021-02-12 11:00:32  12/02/2021 11:00:32                  NaN     1430.0   \n",
       "2021-02-12 11:00:48  12/02/2021 11:00:48                  NaN     1410.0   \n",
       "2021-02-12 11:01:04  12/02/2021 11:01:04                  NaN     1380.0   \n",
       "2021-02-12 11:01:20  12/02/2021 11:01:20                  NaN     1400.0   \n",
       "...                                  ...                  ...        ...   \n",
       "2021-02-19 10:58:40  19/02/2021 10:58:40                  2.0        NaN   \n",
       "2021-02-19 10:58:56  19/02/2021 10:58:56                  2.0        NaN   \n",
       "2021-02-19 10:59:12  19/02/2021 10:59:12                  2.0        NaN   \n",
       "2021-02-19 10:59:28  19/02/2021 10:59:28                  2.0        NaN   \n",
       "2021-02-19 10:59:44  19/02/2021 10:59:44                  2.0        NaN   \n",
       "\n",
       "                     Mean_Layer_Height  n_BL  cloud_stat  cloud_dat  \\\n",
       "datetime                                                              \n",
       "2021-02-12 11:00:00                NaN     3           1     8430.0   \n",
       "2021-02-12 11:00:32                NaN     3           1     8430.0   \n",
       "2021-02-12 11:00:48                NaN     3           1     8430.0   \n",
       "2021-02-12 11:01:04                NaN     3           1     8430.0   \n",
       "2021-02-12 11:01:20                NaN     3           1     8400.0   \n",
       "...                                ...   ...         ...        ...   \n",
       "2021-02-19 10:58:40              270.0     3           1     1940.0   \n",
       "2021-02-19 10:58:56              270.0     3           3      640.0   \n",
       "2021-02-19 10:59:12              270.0     3           3      640.0   \n",
       "2021-02-19 10:59:28              270.0     3           3      640.0   \n",
       "2021-02-19 10:59:44              270.0     3           1     1990.0   \n",
       "\n",
       "                     revised_bl_height  \n",
       "datetime                                \n",
       "2021-02-12 11:00:00             2090.0  \n",
       "2021-02-12 11:00:32             1430.0  \n",
       "2021-02-12 11:00:48             1410.0  \n",
       "2021-02-12 11:01:04             1380.0  \n",
       "2021-02-12 11:01:20             1400.0  \n",
       "...                                ...  \n",
       "2021-02-19 10:58:40              500.0  \n",
       "2021-02-19 10:58:56              500.0  \n",
       "2021-02-19 10:59:12              500.0  \n",
       "2021-02-19 10:59:28              500.0  \n",
       "2021-02-19 10:59:44              500.0  \n",
       "\n",
       "[32833 rows x 8 columns]"
      ]
     },
     "execution_count": 5,
     "metadata": {},
     "output_type": "execute_result"
    }
   ],
   "source": [
    "#Sanity check 2\n",
    "cl51_df_merriwa"
   ]
  },
  {
   "cell_type": "code",
   "execution_count": 6,
   "metadata": {
    "scrolled": true
   },
   "outputs": [
    {
     "data": {
      "text/html": [
       "<div>\n",
       "<style scoped>\n",
       "    .dataframe tbody tr th:only-of-type {\n",
       "        vertical-align: middle;\n",
       "    }\n",
       "\n",
       "    .dataframe tbody tr th {\n",
       "        vertical-align: top;\n",
       "    }\n",
       "\n",
       "    .dataframe thead th {\n",
       "        text-align: right;\n",
       "    }\n",
       "</style>\n",
       "<table border=\"1\" class=\"dataframe\">\n",
       "  <thead>\n",
       "    <tr style=\"text-align: right;\">\n",
       "      <th></th>\n",
       "      <th># Time</th>\n",
       "      <th>Layer_QualityIndex</th>\n",
       "      <th>bl_height</th>\n",
       "      <th>Mean_Layer_Height</th>\n",
       "      <th>n_BL</th>\n",
       "      <th>cloud_stat</th>\n",
       "      <th>cloud_dat</th>\n",
       "      <th>revised_bl_height</th>\n",
       "    </tr>\n",
       "    <tr>\n",
       "      <th>datetime</th>\n",
       "      <th></th>\n",
       "      <th></th>\n",
       "      <th></th>\n",
       "      <th></th>\n",
       "      <th></th>\n",
       "      <th></th>\n",
       "      <th></th>\n",
       "      <th></th>\n",
       "    </tr>\n",
       "  </thead>\n",
       "  <tbody>\n",
       "    <tr>\n",
       "      <td>2021-02-12 11:00:00</td>\n",
       "      <td>12/02/2021 11:00:00</td>\n",
       "      <td>3.0</td>\n",
       "      <td>440.0</td>\n",
       "      <td>390.0</td>\n",
       "      <td>3</td>\n",
       "      <td>1</td>\n",
       "      <td>4880.0</td>\n",
       "      <td>440.0</td>\n",
       "    </tr>\n",
       "    <tr>\n",
       "      <td>2021-02-12 11:00:16</td>\n",
       "      <td>12/02/2021 11:00:16</td>\n",
       "      <td>3.0</td>\n",
       "      <td>440.0</td>\n",
       "      <td>390.0</td>\n",
       "      <td>3</td>\n",
       "      <td>1</td>\n",
       "      <td>4850.0</td>\n",
       "      <td>440.0</td>\n",
       "    </tr>\n",
       "    <tr>\n",
       "      <td>2021-02-12 11:00:32</td>\n",
       "      <td>12/02/2021 11:00:32</td>\n",
       "      <td>3.0</td>\n",
       "      <td>440.0</td>\n",
       "      <td>390.0</td>\n",
       "      <td>3</td>\n",
       "      <td>1</td>\n",
       "      <td>4850.0</td>\n",
       "      <td>440.0</td>\n",
       "    </tr>\n",
       "    <tr>\n",
       "      <td>2021-02-12 11:00:48</td>\n",
       "      <td>12/02/2021 11:00:48</td>\n",
       "      <td>3.0</td>\n",
       "      <td>440.0</td>\n",
       "      <td>390.0</td>\n",
       "      <td>3</td>\n",
       "      <td>1</td>\n",
       "      <td>4600.0</td>\n",
       "      <td>440.0</td>\n",
       "    </tr>\n",
       "    <tr>\n",
       "      <td>2021-02-12 11:01:04</td>\n",
       "      <td>12/02/2021 11:01:04</td>\n",
       "      <td>3.0</td>\n",
       "      <td>440.0</td>\n",
       "      <td>390.0</td>\n",
       "      <td>3</td>\n",
       "      <td>1</td>\n",
       "      <td>4600.0</td>\n",
       "      <td>440.0</td>\n",
       "    </tr>\n",
       "    <tr>\n",
       "      <td>...</td>\n",
       "      <td>...</td>\n",
       "      <td>...</td>\n",
       "      <td>...</td>\n",
       "      <td>...</td>\n",
       "      <td>...</td>\n",
       "      <td>...</td>\n",
       "      <td>...</td>\n",
       "      <td>...</td>\n",
       "    </tr>\n",
       "    <tr>\n",
       "      <td>2021-02-19 10:58:40</td>\n",
       "      <td>19/02/2021 10:58:40</td>\n",
       "      <td>1.0</td>\n",
       "      <td>890.0</td>\n",
       "      <td>930.0</td>\n",
       "      <td>3</td>\n",
       "      <td>1</td>\n",
       "      <td>750.0</td>\n",
       "      <td>890.0</td>\n",
       "    </tr>\n",
       "    <tr>\n",
       "      <td>2021-02-19 10:58:56</td>\n",
       "      <td>19/02/2021 10:58:56</td>\n",
       "      <td>1.0</td>\n",
       "      <td>890.0</td>\n",
       "      <td>930.0</td>\n",
       "      <td>3</td>\n",
       "      <td>1</td>\n",
       "      <td>750.0</td>\n",
       "      <td>890.0</td>\n",
       "    </tr>\n",
       "    <tr>\n",
       "      <td>2021-02-19 10:59:12</td>\n",
       "      <td>19/02/2021 10:59:12</td>\n",
       "      <td>1.0</td>\n",
       "      <td>890.0</td>\n",
       "      <td>930.0</td>\n",
       "      <td>3</td>\n",
       "      <td>1</td>\n",
       "      <td>760.0</td>\n",
       "      <td>890.0</td>\n",
       "    </tr>\n",
       "    <tr>\n",
       "      <td>2021-02-19 10:59:28</td>\n",
       "      <td>19/02/2021 10:59:28</td>\n",
       "      <td>1.0</td>\n",
       "      <td>890.0</td>\n",
       "      <td>930.0</td>\n",
       "      <td>3</td>\n",
       "      <td>1</td>\n",
       "      <td>760.0</td>\n",
       "      <td>890.0</td>\n",
       "    </tr>\n",
       "    <tr>\n",
       "      <td>2021-02-19 10:59:44</td>\n",
       "      <td>19/02/2021 10:59:44</td>\n",
       "      <td>1.0</td>\n",
       "      <td>890.0</td>\n",
       "      <td>930.0</td>\n",
       "      <td>3</td>\n",
       "      <td>1</td>\n",
       "      <td>760.0</td>\n",
       "      <td>890.0</td>\n",
       "    </tr>\n",
       "  </tbody>\n",
       "</table>\n",
       "<p>37521 rows × 8 columns</p>\n",
       "</div>"
      ],
      "text/plain": [
       "                                  # Time   Layer_QualityIndex  bl_height  \\\n",
       "datetime                                                                   \n",
       "2021-02-12 11:00:00  12/02/2021 11:00:00                  3.0      440.0   \n",
       "2021-02-12 11:00:16  12/02/2021 11:00:16                  3.0      440.0   \n",
       "2021-02-12 11:00:32  12/02/2021 11:00:32                  3.0      440.0   \n",
       "2021-02-12 11:00:48  12/02/2021 11:00:48                  3.0      440.0   \n",
       "2021-02-12 11:01:04  12/02/2021 11:01:04                  3.0      440.0   \n",
       "...                                  ...                  ...        ...   \n",
       "2021-02-19 10:58:40  19/02/2021 10:58:40                  1.0      890.0   \n",
       "2021-02-19 10:58:56  19/02/2021 10:58:56                  1.0      890.0   \n",
       "2021-02-19 10:59:12  19/02/2021 10:59:12                  1.0      890.0   \n",
       "2021-02-19 10:59:28  19/02/2021 10:59:28                  1.0      890.0   \n",
       "2021-02-19 10:59:44  19/02/2021 10:59:44                  1.0      890.0   \n",
       "\n",
       "                     Mean_Layer_Height  n_BL  cloud_stat  cloud_dat  \\\n",
       "datetime                                                              \n",
       "2021-02-12 11:00:00              390.0     3           1     4880.0   \n",
       "2021-02-12 11:00:16              390.0     3           1     4850.0   \n",
       "2021-02-12 11:00:32              390.0     3           1     4850.0   \n",
       "2021-02-12 11:00:48              390.0     3           1     4600.0   \n",
       "2021-02-12 11:01:04              390.0     3           1     4600.0   \n",
       "...                                ...   ...         ...        ...   \n",
       "2021-02-19 10:58:40              930.0     3           1      750.0   \n",
       "2021-02-19 10:58:56              930.0     3           1      750.0   \n",
       "2021-02-19 10:59:12              930.0     3           1      760.0   \n",
       "2021-02-19 10:59:28              930.0     3           1      760.0   \n",
       "2021-02-19 10:59:44              930.0     3           1      760.0   \n",
       "\n",
       "                     revised_bl_height  \n",
       "datetime                                \n",
       "2021-02-12 11:00:00              440.0  \n",
       "2021-02-12 11:00:16              440.0  \n",
       "2021-02-12 11:00:32              440.0  \n",
       "2021-02-12 11:00:48              440.0  \n",
       "2021-02-12 11:01:04              440.0  \n",
       "...                                ...  \n",
       "2021-02-19 10:58:40              890.0  \n",
       "2021-02-19 10:58:56              890.0  \n",
       "2021-02-19 10:59:12              890.0  \n",
       "2021-02-19 10:59:28              890.0  \n",
       "2021-02-19 10:59:44              890.0  \n",
       "\n",
       "[37521 rows x 8 columns]"
      ]
     },
     "execution_count": 6,
     "metadata": {},
     "output_type": "execute_result"
    }
   ],
   "source": [
    "cl51_df_lidcombe"
   ]
  },
  {
   "cell_type": "code",
   "execution_count": 7,
   "metadata": {
    "scrolled": true
   },
   "outputs": [
    {
     "data": {
      "text/plain": [
       "Text(0.5, 1.0, 'Merriwa - Original BL')"
      ]
     },
     "execution_count": 7,
     "metadata": {},
     "output_type": "execute_result"
    },
    {
     "data": {
      "image/png": "[encoded data removed]",
      "text/plain": [
       "<Figure size 432x288 with 1 Axes>"
      ]
     },
     "metadata": {
      "needs_background": "light"
     },
     "output_type": "display_data"
    },
    {
     "data": {
      "image/png": "[encoded data removed]",
      "text/plain": [
       "<Figure size 432x288 with 1 Axes>"
      ]
     },
     "metadata": {
      "needs_background": "light"
     },
     "output_type": "display_data"
    }
   ],
   "source": [
    "#Raw visualisation\n",
    "\n",
    "cl51_df_merriwa.plot(y = ['revised_bl_height'])\n",
    "plt.title('Merriwa - Interpolated BL_height')\n",
    "\n",
    "cl51_df_merriwa.plot(y = ['bl_height'])\n",
    "plt.title('Merriwa - Original BL')\n",
    "\n"
   ]
  },
  {
   "cell_type": "code",
   "execution_count": 8,
   "metadata": {
    "scrolled": true
   },
   "outputs": [
    {
     "data": {
      "image/png": "[encoded data removed]",
      "text/plain": [
       "<Figure size 432x288 with 1 Axes>"
      ]
     },
     "metadata": {
      "needs_background": "light"
     },
     "output_type": "display_data"
    },
    {
     "data": {
      "image/png": "[encoded data removed]",
      "text/plain": [
       "<Figure size 432x288 with 1 Axes>"
      ]
     },
     "metadata": {
      "needs_background": "light"
     },
     "output_type": "display_data"
    }
   ],
   "source": [
    "cl51_df_lidcombe.plot(y = ['revised_bl_height'])\n",
    "plt.title('Lidcombe - Interpolated BL_height')\n",
    "plt.show()\n",
    "\n",
    "cl51_df_lidcombe.plot(y = ['bl_height'])\n",
    "plt.title('Lidcombe - Original BL')\n",
    "plt.show()"
   ]
  },
  {
   "cell_type": "markdown",
   "metadata": {},
   "source": [
    "Imputation looks reasonable.."
   ]
  },
  {
   "cell_type": "markdown",
   "metadata": {},
   "source": [
    "## 1.2. Read CTM data"
   ]
  },
  {
   "cell_type": "code",
   "execution_count": 9,
   "metadata": {},
   "outputs": [],
   "source": [
    "'''\n",
    "2. Import CTM data\n",
    "'''\n",
    "ctm_data_path = \"\\\\CTM OUTPUT\"\n",
    "\n",
    "ctm_data_fn_merriwa = ['ctm_gmr_20210212_Merriwa','ctm_gmr_20210213_Merriwa',\n",
    "                       'ctm_gmr_20210214_Merriwa','ctm_gmr_20210215_Merriwa',\n",
    "                       'ctm_gmr_20210216_Merriwa','ctm_gmr_20210217_Merriwa',\n",
    "                       'ctm_gmr_20210218_Merriwa']\n",
    "\n",
    "#Use RE\n",
    "ctm_data_fn_lidcombe = [re.sub('Merriwa', 'Lidcombe',data) for data in ctm_data_fn_merriwa]\n",
    "\n",
    "ctm_full_file_path_merriwa = [data_path+ctm_data_path+'\\\\'+path+'.csv' for path in ctm_data_fn_merriwa]\n",
    "ctm_full_file_path_lidcombe = [data_path+ctm_data_path+'\\\\'+path+'.csv' for path in ctm_data_fn_lidcombe]\n",
    "\n",
    "#Initialise a Dataframe with first table\n",
    "ctm_df_merriwa = pd.read_csv(ctm_full_file_path_merriwa[0])\n",
    "ctm_df_lidcombe = pd.read_csv(ctm_full_file_path_lidcombe[0])\n",
    "\n",
    "#Loop through the rest of the data and append. Note both data is same length\n",
    "for i in range(1,len(ctm_full_file_path_merriwa)):\n",
    "    ctm_df_merriwa = ctm_df_merriwa.append(pd.read_csv(ctm_full_file_path_merriwa[i]), ignore_index = True)\n",
    "    ctm_df_lidcombe = ctm_df_lidcombe.append(pd.read_csv(ctm_full_file_path_lidcombe[i]), ignore_index = True)"
   ]
  },
  {
   "cell_type": "code",
   "execution_count": 10,
   "metadata": {},
   "outputs": [
    {
     "data": {
      "text/plain": [
       "Index(['lat', ' lon', ' date', ' time', ' temperature', ' mixing_height'], dtype='object')"
      ]
     },
     "execution_count": 10,
     "metadata": {},
     "output_type": "execute_result"
    }
   ],
   "source": [
    "#Esoteric spaces...\n",
    "ctm_df_merriwa.keys()"
   ]
  },
  {
   "cell_type": "code",
   "execution_count": 11,
   "metadata": {
    "scrolled": true
   },
   "outputs": [],
   "source": [
    "'''\n",
    "Change time to AEST and set datetime\n",
    "'''\n",
    "\n",
    "def convert_df_to_datetime(df):\n",
    "    df['time_AEST'] = (df[' time'] + 10) % 24\n",
    "\n",
    "    #Loop through and convert date to proper date\n",
    "    length_data = len(df)\n",
    "\n",
    "    #Defined new columns\n",
    "    df['date_proper'] = 0\n",
    "    df['datetime'] = ''\n",
    "\n",
    "    #Sets the date based on change of time and creates a datetime stamp\n",
    "    #Very clunky but it works\n",
    "    for i in range(length_data):\n",
    "        date_1 = str(df.loc[i,' date'])\n",
    "\n",
    "        year_date_1 = date_1[:4]\n",
    "        month_date_1 = date_1[4:6]\n",
    "        day_date_1 = int(date_1[6::])\n",
    "\n",
    "        if i > 1:\n",
    "            #This means the day has changed\n",
    "            if (df.loc[i,'time_AEST'] < df.loc[i-1,'time_AEST']):\n",
    "                day_date_1 += 1\n",
    "\n",
    "        df.loc[i, 'date_proper'] = date(int(year_date_1), int(month_date_1), day_date_1)\n",
    "\n",
    "        #Days are monotonic\n",
    "        if i > 1:\n",
    "            if (df.loc[i,'date_proper'] < df.loc[i-1,'date_proper']):\n",
    "                df.loc[i,'date_proper'] = df.loc[i-1,'date_proper']\n",
    "\n",
    "        date_proper_1 = str(df.loc[i,'date_proper'])\n",
    "        time_1 = str(df.loc[i, 'time_AEST'])\n",
    "\n",
    "        datetime_str = date_proper_1 + \" \" + time_1\n",
    "        df.loc[i, 'datetime'] = datetime.strptime(datetime_str, '%Y-%m-%d %H')\n",
    "\n",
    "    #Set index to datetime\n",
    "    df = df.set_index('datetime')\n",
    "    \n",
    "    return df"
   ]
  },
  {
   "cell_type": "code",
   "execution_count": 12,
   "metadata": {},
   "outputs": [],
   "source": [
    "#Apply functions\n",
    "ctm_df_merriwa = convert_df_to_datetime(ctm_df_merriwa)\n",
    "ctm_df_lidcombe = convert_df_to_datetime(ctm_df_lidcombe)"
   ]
  },
  {
   "cell_type": "code",
   "execution_count": 13,
   "metadata": {},
   "outputs": [
    {
     "data": {
      "text/html": [
       "<div>\n",
       "<style scoped>\n",
       "    .dataframe tbody tr th:only-of-type {\n",
       "        vertical-align: middle;\n",
       "    }\n",
       "\n",
       "    .dataframe tbody tr th {\n",
       "        vertical-align: top;\n",
       "    }\n",
       "\n",
       "    .dataframe thead th {\n",
       "        text-align: right;\n",
       "    }\n",
       "</style>\n",
       "<table border=\"1\" class=\"dataframe\">\n",
       "  <thead>\n",
       "    <tr style=\"text-align: right;\">\n",
       "      <th></th>\n",
       "      <th>lat</th>\n",
       "      <th>lon</th>\n",
       "      <th>date</th>\n",
       "      <th>time</th>\n",
       "      <th>temperature</th>\n",
       "      <th>mixing_height</th>\n",
       "      <th>time_AEST</th>\n",
       "      <th>date_proper</th>\n",
       "    </tr>\n",
       "    <tr>\n",
       "      <th>datetime</th>\n",
       "      <th></th>\n",
       "      <th></th>\n",
       "      <th></th>\n",
       "      <th></th>\n",
       "      <th></th>\n",
       "      <th></th>\n",
       "      <th></th>\n",
       "      <th></th>\n",
       "    </tr>\n",
       "  </thead>\n",
       "  <tbody>\n",
       "    <tr>\n",
       "      <td>2021-02-12 10:00:00</td>\n",
       "      <td>-32.14</td>\n",
       "      <td>150.5</td>\n",
       "      <td>20210212</td>\n",
       "      <td>0</td>\n",
       "      <td>29.91</td>\n",
       "      <td>1460.2307</td>\n",
       "      <td>10</td>\n",
       "      <td>2021-02-12</td>\n",
       "    </tr>\n",
       "    <tr>\n",
       "      <td>2021-02-12 11:00:00</td>\n",
       "      <td>-32.14</td>\n",
       "      <td>150.5</td>\n",
       "      <td>20210212</td>\n",
       "      <td>1</td>\n",
       "      <td>32.01</td>\n",
       "      <td>2116.5154</td>\n",
       "      <td>11</td>\n",
       "      <td>2021-02-12</td>\n",
       "    </tr>\n",
       "    <tr>\n",
       "      <td>2021-02-12 12:00:00</td>\n",
       "      <td>-32.14</td>\n",
       "      <td>150.5</td>\n",
       "      <td>20210212</td>\n",
       "      <td>2</td>\n",
       "      <td>33.03</td>\n",
       "      <td>2268.4509</td>\n",
       "      <td>12</td>\n",
       "      <td>2021-02-12</td>\n",
       "    </tr>\n",
       "    <tr>\n",
       "      <td>2021-02-12 13:00:00</td>\n",
       "      <td>-32.14</td>\n",
       "      <td>150.5</td>\n",
       "      <td>20210212</td>\n",
       "      <td>3</td>\n",
       "      <td>33.56</td>\n",
       "      <td>2332.6211</td>\n",
       "      <td>13</td>\n",
       "      <td>2021-02-12</td>\n",
       "    </tr>\n",
       "    <tr>\n",
       "      <td>2021-02-12 14:00:00</td>\n",
       "      <td>-32.14</td>\n",
       "      <td>150.5</td>\n",
       "      <td>20210212</td>\n",
       "      <td>4</td>\n",
       "      <td>33.70</td>\n",
       "      <td>2376.4629</td>\n",
       "      <td>14</td>\n",
       "      <td>2021-02-12</td>\n",
       "    </tr>\n",
       "    <tr>\n",
       "      <td>...</td>\n",
       "      <td>...</td>\n",
       "      <td>...</td>\n",
       "      <td>...</td>\n",
       "      <td>...</td>\n",
       "      <td>...</td>\n",
       "      <td>...</td>\n",
       "      <td>...</td>\n",
       "      <td>...</td>\n",
       "    </tr>\n",
       "    <tr>\n",
       "      <td>2021-02-19 05:00:00</td>\n",
       "      <td>-32.14</td>\n",
       "      <td>150.5</td>\n",
       "      <td>20210218</td>\n",
       "      <td>19</td>\n",
       "      <td>18.19</td>\n",
       "      <td>156.5146</td>\n",
       "      <td>5</td>\n",
       "      <td>2021-02-19</td>\n",
       "    </tr>\n",
       "    <tr>\n",
       "      <td>2021-02-19 06:00:00</td>\n",
       "      <td>-32.14</td>\n",
       "      <td>150.5</td>\n",
       "      <td>20210218</td>\n",
       "      <td>20</td>\n",
       "      <td>18.99</td>\n",
       "      <td>271.2063</td>\n",
       "      <td>6</td>\n",
       "      <td>2021-02-19</td>\n",
       "    </tr>\n",
       "    <tr>\n",
       "      <td>2021-02-19 07:00:00</td>\n",
       "      <td>-32.14</td>\n",
       "      <td>150.5</td>\n",
       "      <td>20210218</td>\n",
       "      <td>21</td>\n",
       "      <td>20.34</td>\n",
       "      <td>402.5884</td>\n",
       "      <td>7</td>\n",
       "      <td>2021-02-19</td>\n",
       "    </tr>\n",
       "    <tr>\n",
       "      <td>2021-02-19 08:00:00</td>\n",
       "      <td>-32.14</td>\n",
       "      <td>150.5</td>\n",
       "      <td>20210218</td>\n",
       "      <td>22</td>\n",
       "      <td>21.67</td>\n",
       "      <td>530.2465</td>\n",
       "      <td>8</td>\n",
       "      <td>2021-02-19</td>\n",
       "    </tr>\n",
       "    <tr>\n",
       "      <td>2021-02-19 09:00:00</td>\n",
       "      <td>-32.14</td>\n",
       "      <td>150.5</td>\n",
       "      <td>20210218</td>\n",
       "      <td>23</td>\n",
       "      <td>22.85</td>\n",
       "      <td>596.1211</td>\n",
       "      <td>9</td>\n",
       "      <td>2021-02-19</td>\n",
       "    </tr>\n",
       "  </tbody>\n",
       "</table>\n",
       "<p>168 rows × 8 columns</p>\n",
       "</div>"
      ],
      "text/plain": [
       "                       lat    lon      date   time   temperature  \\\n",
       "datetime                                                           \n",
       "2021-02-12 10:00:00 -32.14  150.5  20210212      0         29.91   \n",
       "2021-02-12 11:00:00 -32.14  150.5  20210212      1         32.01   \n",
       "2021-02-12 12:00:00 -32.14  150.5  20210212      2         33.03   \n",
       "2021-02-12 13:00:00 -32.14  150.5  20210212      3         33.56   \n",
       "2021-02-12 14:00:00 -32.14  150.5  20210212      4         33.70   \n",
       "...                    ...    ...       ...    ...           ...   \n",
       "2021-02-19 05:00:00 -32.14  150.5  20210218     19         18.19   \n",
       "2021-02-19 06:00:00 -32.14  150.5  20210218     20         18.99   \n",
       "2021-02-19 07:00:00 -32.14  150.5  20210218     21         20.34   \n",
       "2021-02-19 08:00:00 -32.14  150.5  20210218     22         21.67   \n",
       "2021-02-19 09:00:00 -32.14  150.5  20210218     23         22.85   \n",
       "\n",
       "                      mixing_height  time_AEST date_proper  \n",
       "datetime                                                    \n",
       "2021-02-12 10:00:00       1460.2307         10  2021-02-12  \n",
       "2021-02-12 11:00:00       2116.5154         11  2021-02-12  \n",
       "2021-02-12 12:00:00       2268.4509         12  2021-02-12  \n",
       "2021-02-12 13:00:00       2332.6211         13  2021-02-12  \n",
       "2021-02-12 14:00:00       2376.4629         14  2021-02-12  \n",
       "...                             ...        ...         ...  \n",
       "2021-02-19 05:00:00        156.5146          5  2021-02-19  \n",
       "2021-02-19 06:00:00        271.2063          6  2021-02-19  \n",
       "2021-02-19 07:00:00        402.5884          7  2021-02-19  \n",
       "2021-02-19 08:00:00        530.2465          8  2021-02-19  \n",
       "2021-02-19 09:00:00        596.1211          9  2021-02-19  \n",
       "\n",
       "[168 rows x 8 columns]"
      ]
     },
     "execution_count": 13,
     "metadata": {},
     "output_type": "execute_result"
    }
   ],
   "source": [
    "#sanity check\n",
    "ctm_df_merriwa"
   ]
  },
  {
   "cell_type": "code",
   "execution_count": 14,
   "metadata": {},
   "outputs": [
    {
     "data": {
      "text/html": [
       "<div>\n",
       "<style scoped>\n",
       "    .dataframe tbody tr th:only-of-type {\n",
       "        vertical-align: middle;\n",
       "    }\n",
       "\n",
       "    .dataframe tbody tr th {\n",
       "        vertical-align: top;\n",
       "    }\n",
       "\n",
       "    .dataframe thead th {\n",
       "        text-align: right;\n",
       "    }\n",
       "</style>\n",
       "<table border=\"1\" class=\"dataframe\">\n",
       "  <thead>\n",
       "    <tr style=\"text-align: right;\">\n",
       "      <th></th>\n",
       "      <th>lat</th>\n",
       "      <th>lon</th>\n",
       "      <th>date</th>\n",
       "      <th>time</th>\n",
       "      <th>temperature</th>\n",
       "      <th>mixing_height</th>\n",
       "      <th>time_AEST</th>\n",
       "      <th>date_proper</th>\n",
       "    </tr>\n",
       "    <tr>\n",
       "      <th>datetime</th>\n",
       "      <th></th>\n",
       "      <th></th>\n",
       "      <th></th>\n",
       "      <th></th>\n",
       "      <th></th>\n",
       "      <th></th>\n",
       "      <th></th>\n",
       "      <th></th>\n",
       "    </tr>\n",
       "  </thead>\n",
       "  <tbody>\n",
       "    <tr>\n",
       "      <td>2021-02-12 10:00:00</td>\n",
       "      <td>-33.9</td>\n",
       "      <td>151.06</td>\n",
       "      <td>20210212</td>\n",
       "      <td>0</td>\n",
       "      <td>31.63</td>\n",
       "      <td>898.0856</td>\n",
       "      <td>10</td>\n",
       "      <td>2021-02-12</td>\n",
       "    </tr>\n",
       "    <tr>\n",
       "      <td>2021-02-12 11:00:00</td>\n",
       "      <td>-33.9</td>\n",
       "      <td>151.06</td>\n",
       "      <td>20210212</td>\n",
       "      <td>1</td>\n",
       "      <td>33.49</td>\n",
       "      <td>1035.7593</td>\n",
       "      <td>11</td>\n",
       "      <td>2021-02-12</td>\n",
       "    </tr>\n",
       "    <tr>\n",
       "      <td>2021-02-12 12:00:00</td>\n",
       "      <td>-33.9</td>\n",
       "      <td>151.06</td>\n",
       "      <td>20210212</td>\n",
       "      <td>2</td>\n",
       "      <td>34.07</td>\n",
       "      <td>984.8432</td>\n",
       "      <td>12</td>\n",
       "      <td>2021-02-12</td>\n",
       "    </tr>\n",
       "    <tr>\n",
       "      <td>2021-02-12 13:00:00</td>\n",
       "      <td>-33.9</td>\n",
       "      <td>151.06</td>\n",
       "      <td>20210212</td>\n",
       "      <td>3</td>\n",
       "      <td>33.34</td>\n",
       "      <td>546.3094</td>\n",
       "      <td>13</td>\n",
       "      <td>2021-02-12</td>\n",
       "    </tr>\n",
       "    <tr>\n",
       "      <td>2021-02-12 14:00:00</td>\n",
       "      <td>-33.9</td>\n",
       "      <td>151.06</td>\n",
       "      <td>20210212</td>\n",
       "      <td>4</td>\n",
       "      <td>31.39</td>\n",
       "      <td>559.0942</td>\n",
       "      <td>14</td>\n",
       "      <td>2021-02-12</td>\n",
       "    </tr>\n",
       "    <tr>\n",
       "      <td>...</td>\n",
       "      <td>...</td>\n",
       "      <td>...</td>\n",
       "      <td>...</td>\n",
       "      <td>...</td>\n",
       "      <td>...</td>\n",
       "      <td>...</td>\n",
       "      <td>...</td>\n",
       "      <td>...</td>\n",
       "    </tr>\n",
       "    <tr>\n",
       "      <td>2021-02-19 05:00:00</td>\n",
       "      <td>-33.9</td>\n",
       "      <td>151.06</td>\n",
       "      <td>20210218</td>\n",
       "      <td>19</td>\n",
       "      <td>22.63</td>\n",
       "      <td>152.9865</td>\n",
       "      <td>5</td>\n",
       "      <td>2021-02-19</td>\n",
       "    </tr>\n",
       "    <tr>\n",
       "      <td>2021-02-19 06:00:00</td>\n",
       "      <td>-33.9</td>\n",
       "      <td>151.06</td>\n",
       "      <td>20210218</td>\n",
       "      <td>20</td>\n",
       "      <td>22.91</td>\n",
       "      <td>335.2351</td>\n",
       "      <td>6</td>\n",
       "      <td>2021-02-19</td>\n",
       "    </tr>\n",
       "    <tr>\n",
       "      <td>2021-02-19 07:00:00</td>\n",
       "      <td>-33.9</td>\n",
       "      <td>151.06</td>\n",
       "      <td>20210218</td>\n",
       "      <td>21</td>\n",
       "      <td>23.15</td>\n",
       "      <td>417.5187</td>\n",
       "      <td>7</td>\n",
       "      <td>2021-02-19</td>\n",
       "    </tr>\n",
       "    <tr>\n",
       "      <td>2021-02-19 08:00:00</td>\n",
       "      <td>-33.9</td>\n",
       "      <td>151.06</td>\n",
       "      <td>20210218</td>\n",
       "      <td>22</td>\n",
       "      <td>23.48</td>\n",
       "      <td>501.2411</td>\n",
       "      <td>8</td>\n",
       "      <td>2021-02-19</td>\n",
       "    </tr>\n",
       "    <tr>\n",
       "      <td>2021-02-19 09:00:00</td>\n",
       "      <td>-33.9</td>\n",
       "      <td>151.06</td>\n",
       "      <td>20210218</td>\n",
       "      <td>23</td>\n",
       "      <td>24.16</td>\n",
       "      <td>513.3745</td>\n",
       "      <td>9</td>\n",
       "      <td>2021-02-19</td>\n",
       "    </tr>\n",
       "  </tbody>\n",
       "</table>\n",
       "<p>168 rows × 8 columns</p>\n",
       "</div>"
      ],
      "text/plain": [
       "                      lat     lon      date   time   temperature  \\\n",
       "datetime                                                           \n",
       "2021-02-12 10:00:00 -33.9  151.06  20210212      0         31.63   \n",
       "2021-02-12 11:00:00 -33.9  151.06  20210212      1         33.49   \n",
       "2021-02-12 12:00:00 -33.9  151.06  20210212      2         34.07   \n",
       "2021-02-12 13:00:00 -33.9  151.06  20210212      3         33.34   \n",
       "2021-02-12 14:00:00 -33.9  151.06  20210212      4         31.39   \n",
       "...                   ...     ...       ...    ...           ...   \n",
       "2021-02-19 05:00:00 -33.9  151.06  20210218     19         22.63   \n",
       "2021-02-19 06:00:00 -33.9  151.06  20210218     20         22.91   \n",
       "2021-02-19 07:00:00 -33.9  151.06  20210218     21         23.15   \n",
       "2021-02-19 08:00:00 -33.9  151.06  20210218     22         23.48   \n",
       "2021-02-19 09:00:00 -33.9  151.06  20210218     23         24.16   \n",
       "\n",
       "                      mixing_height  time_AEST date_proper  \n",
       "datetime                                                    \n",
       "2021-02-12 10:00:00        898.0856         10  2021-02-12  \n",
       "2021-02-12 11:00:00       1035.7593         11  2021-02-12  \n",
       "2021-02-12 12:00:00        984.8432         12  2021-02-12  \n",
       "2021-02-12 13:00:00        546.3094         13  2021-02-12  \n",
       "2021-02-12 14:00:00        559.0942         14  2021-02-12  \n",
       "...                             ...        ...         ...  \n",
       "2021-02-19 05:00:00        152.9865          5  2021-02-19  \n",
       "2021-02-19 06:00:00        335.2351          6  2021-02-19  \n",
       "2021-02-19 07:00:00        417.5187          7  2021-02-19  \n",
       "2021-02-19 08:00:00        501.2411          8  2021-02-19  \n",
       "2021-02-19 09:00:00        513.3745          9  2021-02-19  \n",
       "\n",
       "[168 rows x 8 columns]"
      ]
     },
     "execution_count": 14,
     "metadata": {},
     "output_type": "execute_result"
    }
   ],
   "source": [
    "ctm_df_lidcombe"
   ]
  },
  {
   "cell_type": "markdown",
   "metadata": {},
   "source": [
    "## 1.3. Smash CL51 data in format that we can compare"
   ]
  },
  {
   "cell_type": "code",
   "execution_count": 15,
   "metadata": {},
   "outputs": [],
   "source": [
    "'''\n",
    "Function: convert CL51 data to grouped data\n",
    "'''\n",
    "def cl51_data_grouped(df):\n",
    "    #Unset datetime index\n",
    "    cl51_df_v2 = df.reset_index()\n",
    "    \n",
    "    #Create unique datetime key with hourly granularity\n",
    "    cl51_df_v2['key'] = cl51_df_v2['datetime'].dt.year.astype(str)+cl51_df_v2['datetime'].dt.month.astype(str)+cl51_df_v2['datetime'].dt.day.astype(str)+cl51_df_v2['datetime'].dt.hour.astype(str)\n",
    "\n",
    "    #Group PBLH on key \n",
    "    cl51_grouped_df = pd.DataFrame(cl51_df_v2.groupby(cl51_df_v2[\"key\"])[\"revised_bl_height\"].mean())\n",
    "    \n",
    "    cl51_grouped_df = cl51_grouped_df.reset_index()\n",
    "    \n",
    "    return cl51_grouped_df"
   ]
  },
  {
   "cell_type": "code",
   "execution_count": 16,
   "metadata": {},
   "outputs": [],
   "source": [
    "cl51_grouped_df_merriwa = cl51_data_grouped(cl51_df_merriwa)\n",
    "cl51_grouped_df_lidcombe = cl51_data_grouped(cl51_df_lidcombe)"
   ]
  },
  {
   "cell_type": "markdown",
   "metadata": {},
   "source": [
    "## 1.4. Smash both data into one database"
   ]
  },
  {
   "cell_type": "code",
   "execution_count": 17,
   "metadata": {},
   "outputs": [],
   "source": [
    "'''\n",
    "Function: Combines CL51 and CTM data to one consolidated output\n",
    "'''\n",
    "def combined_data(cl51_grouped_df, ctm_df):\n",
    "    #Use CTM data as base - as this has smaller number of rows\n",
    "    df = pd.DataFrame(ctm_df.loc[:,' mixing_height'])\n",
    "\n",
    "    #unset datetime index\n",
    "    df = df.reset_index()\n",
    "\n",
    "    #Create key similar to CL51 groupped data\n",
    "    df['key'] = df['datetime'].dt.year.astype(str)+df['datetime'].dt.month.astype(str)+df['datetime'].dt.day.astype(str)+df['datetime'].dt.hour.astype(str)\n",
    "\n",
    "    #Merge\n",
    "    df_2 = pd.merge(df, cl51_grouped_df, how = 'inner', on = 'key').set_index('datetime')\n",
    "    \n",
    "    #Drop unnecessary stuff\n",
    "    df_2 = df_2.drop(columns = 'key')\n",
    "    \n",
    "    #rename columns\n",
    "    df_2 = df_2.rename(columns = {' mixing_height':'Predicted PBLH', 'revised_bl_height':'Actual PBLH'})\n",
    "    \n",
    "    return df_2 "
   ]
  },
  {
   "cell_type": "code",
   "execution_count": 18,
   "metadata": {},
   "outputs": [],
   "source": [
    "comp_df_merriwa = combined_data(cl51_grouped_df_merriwa, ctm_df_merriwa)\n",
    "comp_df_lidcombe = combined_data(cl51_grouped_df_lidcombe, ctm_df_lidcombe)"
   ]
  },
  {
   "cell_type": "code",
   "execution_count": 19,
   "metadata": {
    "scrolled": true
   },
   "outputs": [
    {
     "data": {
      "text/html": [
       "<div>\n",
       "<style scoped>\n",
       "    .dataframe tbody tr th:only-of-type {\n",
       "        vertical-align: middle;\n",
       "    }\n",
       "\n",
       "    .dataframe tbody tr th {\n",
       "        vertical-align: top;\n",
       "    }\n",
       "\n",
       "    .dataframe thead th {\n",
       "        text-align: right;\n",
       "    }\n",
       "</style>\n",
       "<table border=\"1\" class=\"dataframe\">\n",
       "  <thead>\n",
       "    <tr style=\"text-align: right;\">\n",
       "      <th></th>\n",
       "      <th>Predicted PBLH</th>\n",
       "      <th>Actual PBLH</th>\n",
       "    </tr>\n",
       "    <tr>\n",
       "      <th>datetime</th>\n",
       "      <th></th>\n",
       "      <th></th>\n",
       "    </tr>\n",
       "  </thead>\n",
       "  <tbody>\n",
       "    <tr>\n",
       "      <td>2021-02-12 11:00:00</td>\n",
       "      <td>2116.5154</td>\n",
       "      <td>1782.971698</td>\n",
       "    </tr>\n",
       "    <tr>\n",
       "      <td>2021-02-12 12:00:00</td>\n",
       "      <td>2268.4509</td>\n",
       "      <td>2060.904255</td>\n",
       "    </tr>\n",
       "    <tr>\n",
       "      <td>2021-02-12 13:00:00</td>\n",
       "      <td>2332.6211</td>\n",
       "      <td>1942.894737</td>\n",
       "    </tr>\n",
       "    <tr>\n",
       "      <td>2021-02-12 14:00:00</td>\n",
       "      <td>2376.4629</td>\n",
       "      <td>1684.731183</td>\n",
       "    </tr>\n",
       "    <tr>\n",
       "      <td>2021-02-12 15:00:00</td>\n",
       "      <td>2432.8503</td>\n",
       "      <td>1573.967391</td>\n",
       "    </tr>\n",
       "    <tr>\n",
       "      <td>...</td>\n",
       "      <td>...</td>\n",
       "      <td>...</td>\n",
       "    </tr>\n",
       "    <tr>\n",
       "      <td>2021-02-19 05:00:00</td>\n",
       "      <td>156.5146</td>\n",
       "      <td>264.802803</td>\n",
       "    </tr>\n",
       "    <tr>\n",
       "      <td>2021-02-19 06:00:00</td>\n",
       "      <td>271.2063</td>\n",
       "      <td>271.336676</td>\n",
       "    </tr>\n",
       "    <tr>\n",
       "      <td>2021-02-19 07:00:00</td>\n",
       "      <td>402.5884</td>\n",
       "      <td>283.446311</td>\n",
       "    </tr>\n",
       "    <tr>\n",
       "      <td>2021-02-19 08:00:00</td>\n",
       "      <td>530.2465</td>\n",
       "      <td>295.176486</td>\n",
       "    </tr>\n",
       "    <tr>\n",
       "      <td>2021-02-19 09:00:00</td>\n",
       "      <td>596.1211</td>\n",
       "      <td>282.303491</td>\n",
       "    </tr>\n",
       "  </tbody>\n",
       "</table>\n",
       "<p>166 rows × 2 columns</p>\n",
       "</div>"
      ],
      "text/plain": [
       "                     Predicted PBLH  Actual PBLH\n",
       "datetime                                        \n",
       "2021-02-12 11:00:00       2116.5154  1782.971698\n",
       "2021-02-12 12:00:00       2268.4509  2060.904255\n",
       "2021-02-12 13:00:00       2332.6211  1942.894737\n",
       "2021-02-12 14:00:00       2376.4629  1684.731183\n",
       "2021-02-12 15:00:00       2432.8503  1573.967391\n",
       "...                             ...          ...\n",
       "2021-02-19 05:00:00        156.5146   264.802803\n",
       "2021-02-19 06:00:00        271.2063   271.336676\n",
       "2021-02-19 07:00:00        402.5884   283.446311\n",
       "2021-02-19 08:00:00        530.2465   295.176486\n",
       "2021-02-19 09:00:00        596.1211   282.303491\n",
       "\n",
       "[166 rows x 2 columns]"
      ]
     },
     "execution_count": 19,
     "metadata": {},
     "output_type": "execute_result"
    }
   ],
   "source": [
    "#sanity check\n",
    "comp_df_merriwa"
   ]
  },
  {
   "cell_type": "code",
   "execution_count": 20,
   "metadata": {},
   "outputs": [
    {
     "data": {
      "text/html": [
       "<div>\n",
       "<style scoped>\n",
       "    .dataframe tbody tr th:only-of-type {\n",
       "        vertical-align: middle;\n",
       "    }\n",
       "\n",
       "    .dataframe tbody tr th {\n",
       "        vertical-align: top;\n",
       "    }\n",
       "\n",
       "    .dataframe thead th {\n",
       "        text-align: right;\n",
       "    }\n",
       "</style>\n",
       "<table border=\"1\" class=\"dataframe\">\n",
       "  <thead>\n",
       "    <tr style=\"text-align: right;\">\n",
       "      <th></th>\n",
       "      <th>Predicted PBLH</th>\n",
       "      <th>Actual PBLH</th>\n",
       "    </tr>\n",
       "    <tr>\n",
       "      <th>datetime</th>\n",
       "      <th></th>\n",
       "      <th></th>\n",
       "    </tr>\n",
       "  </thead>\n",
       "  <tbody>\n",
       "    <tr>\n",
       "      <td>2021-02-12 11:00:00</td>\n",
       "      <td>1035.7593</td>\n",
       "      <td>1474.222222</td>\n",
       "    </tr>\n",
       "    <tr>\n",
       "      <td>2021-02-12 12:00:00</td>\n",
       "      <td>984.8432</td>\n",
       "      <td>1826.222222</td>\n",
       "    </tr>\n",
       "    <tr>\n",
       "      <td>2021-02-12 13:00:00</td>\n",
       "      <td>546.3094</td>\n",
       "      <td>1662.444444</td>\n",
       "    </tr>\n",
       "    <tr>\n",
       "      <td>2021-02-12 14:00:00</td>\n",
       "      <td>559.0942</td>\n",
       "      <td>1500.755556</td>\n",
       "    </tr>\n",
       "    <tr>\n",
       "      <td>2021-02-12 15:00:00</td>\n",
       "      <td>330.0530</td>\n",
       "      <td>1546.844444</td>\n",
       "    </tr>\n",
       "    <tr>\n",
       "      <td>...</td>\n",
       "      <td>...</td>\n",
       "      <td>...</td>\n",
       "    </tr>\n",
       "    <tr>\n",
       "      <td>2021-02-19 05:00:00</td>\n",
       "      <td>152.9865</td>\n",
       "      <td>845.268328</td>\n",
       "    </tr>\n",
       "    <tr>\n",
       "      <td>2021-02-19 06:00:00</td>\n",
       "      <td>335.2351</td>\n",
       "      <td>1094.350000</td>\n",
       "    </tr>\n",
       "    <tr>\n",
       "      <td>2021-02-19 07:00:00</td>\n",
       "      <td>417.5187</td>\n",
       "      <td>616.111111</td>\n",
       "    </tr>\n",
       "    <tr>\n",
       "      <td>2021-02-19 08:00:00</td>\n",
       "      <td>501.2411</td>\n",
       "      <td>879.903145</td>\n",
       "    </tr>\n",
       "    <tr>\n",
       "      <td>2021-02-19 09:00:00</td>\n",
       "      <td>513.3745</td>\n",
       "      <td>889.407966</td>\n",
       "    </tr>\n",
       "  </tbody>\n",
       "</table>\n",
       "<p>167 rows × 2 columns</p>\n",
       "</div>"
      ],
      "text/plain": [
       "                     Predicted PBLH  Actual PBLH\n",
       "datetime                                        \n",
       "2021-02-12 11:00:00       1035.7593  1474.222222\n",
       "2021-02-12 12:00:00        984.8432  1826.222222\n",
       "2021-02-12 13:00:00        546.3094  1662.444444\n",
       "2021-02-12 14:00:00        559.0942  1500.755556\n",
       "2021-02-12 15:00:00        330.0530  1546.844444\n",
       "...                             ...          ...\n",
       "2021-02-19 05:00:00        152.9865   845.268328\n",
       "2021-02-19 06:00:00        335.2351  1094.350000\n",
       "2021-02-19 07:00:00        417.5187   616.111111\n",
       "2021-02-19 08:00:00        501.2411   879.903145\n",
       "2021-02-19 09:00:00        513.3745   889.407966\n",
       "\n",
       "[167 rows x 2 columns]"
      ]
     },
     "execution_count": 20,
     "metadata": {},
     "output_type": "execute_result"
    }
   ],
   "source": [
    "comp_df_lidcombe"
   ]
  },
  {
   "cell_type": "code",
   "execution_count": 21,
   "metadata": {
    "scrolled": true
   },
   "outputs": [
    {
     "data": {
      "text/plain": [
       "Text(0.5, 1.0, 'Comparison of predicted and actual PBLH in Merriwa')"
      ]
     },
     "execution_count": 21,
     "metadata": {},
     "output_type": "execute_result"
    },
    {
     "data": {
      "image/png": "[encoded data removed]",
      "text/plain": [
       "<Figure size 432x288 with 1 Axes>"
      ]
     },
     "metadata": {
      "needs_background": "light"
     },
     "output_type": "display_data"
    }
   ],
   "source": [
    "#Plotty plot plot\n",
    "comp_df_merriwa.plot()\n",
    "plt.title('Comparison of predicted and actual PBLH in Merriwa')"
   ]
  },
  {
   "cell_type": "code",
   "execution_count": 22,
   "metadata": {
    "scrolled": false
   },
   "outputs": [
    {
     "data": {
      "text/plain": [
       "Text(0.5, 1.0, 'Comparison of predicted and actual PBLH in Lidcombe')"
      ]
     },
     "execution_count": 22,
     "metadata": {},
     "output_type": "execute_result"
    },
    {
     "data": {
      "image/png": "[encoded data removed]",
      "text/plain": [
       "<Figure size 432x288 with 1 Axes>"
      ]
     },
     "metadata": {
      "needs_background": "light"
     },
     "output_type": "display_data"
    }
   ],
   "source": [
    "comp_df_lidcombe.plot()\n",
    "plt.title('Comparison of predicted and actual PBLH in Lidcombe')"
   ]
  },
  {
   "cell_type": "markdown",
   "metadata": {},
   "source": [
    "Merriwa is quite nicely correlated. Lidcombe not so. Particularly from 17/2 - 18/2. What's going on?"
   ]
  },
  {
   "cell_type": "markdown",
   "metadata": {},
   "source": [
    "### Does layer quality matter?\n",
    "\n",
    "Investigate only with non np.nan layers"
   ]
  },
  {
   "cell_type": "code",
   "execution_count": 40,
   "metadata": {},
   "outputs": [
    {
     "data": {
      "text/plain": [
       "Index(['# Time', ' Layer_QualityIndex', 'bl_height', 'Mean_Layer_Height',\n",
       "       'n_BL', 'cloud_stat', 'cloud_dat', 'revised_bl_height'],\n",
       "      dtype='object')"
      ]
     },
     "execution_count": 40,
     "metadata": {},
     "output_type": "execute_result"
    }
   ],
   "source": [
    "cl51_df_merriwa.keys()"
   ]
  },
  {
   "cell_type": "code",
   "execution_count": 45,
   "metadata": {},
   "outputs": [],
   "source": [
    "#Drop layer quality that is na\n",
    "cl51_df_merriwa_non_npnan = cl51_df_merriwa[cl51_df_merriwa[' Layer_QualityIndex'].notna()]\n",
    "cl51_df_lidcombe_non_npnan = cl51_df_lidcombe[cl51_df_lidcombe[' Layer_QualityIndex'].notna()]"
   ]
  },
  {
   "cell_type": "code",
   "execution_count": 46,
   "metadata": {},
   "outputs": [],
   "source": [
    "#Group data and smash\n",
    "#Merriwa\n",
    "cl51_df_merriwa_non_npnan_grouped = cl51_data_grouped(cl51_df_merriwa_non_npnan)\n",
    "comp_df_merriwa_non_npnan = combined_data(cl51_df_merriwa_non_npnan_grouped, ctm_df_merriwa)\n",
    "\n",
    "#Lidcombe\n",
    "cl51_df_lidcombe_non_npnan_grouped = cl51_data_grouped(cl51_df_lidcombe_non_npnan)\n",
    "comp_df_lidcombe_non_npnan = combined_data(cl51_df_lidcombe_non_npnan_grouped, ctm_df_lidcombe)\n"
   ]
  },
  {
   "cell_type": "code",
   "execution_count": 47,
   "metadata": {
    "scrolled": true
   },
   "outputs": [
    {
     "data": {
      "text/plain": [
       "<matplotlib.axes._subplots.AxesSubplot at 0x27e6034d408>"
      ]
     },
     "execution_count": 47,
     "metadata": {},
     "output_type": "execute_result"
    },
    {
     "data": {
      "image/png": "[encoded data removed]",
      "text/plain": [
       "<Figure size 432x288 with 1 Axes>"
      ]
     },
     "metadata": {
      "needs_background": "light"
     },
     "output_type": "display_data"
    }
   ],
   "source": [
    "#Plot\n",
    "comp_df_merriwa_non_npnan.plot()"
   ]
  },
  {
   "cell_type": "code",
   "execution_count": 48,
   "metadata": {
    "scrolled": true
   },
   "outputs": [
    {
     "data": {
      "text/plain": [
       "<matplotlib.axes._subplots.AxesSubplot at 0x27e60331d08>"
      ]
     },
     "execution_count": 48,
     "metadata": {},
     "output_type": "execute_result"
    },
    {
     "data": {
      "image/png": "[encoded data removed]",
      "text/plain": [
       "<Figure size 432x288 with 1 Axes>"
      ]
     },
     "metadata": {
      "needs_background": "light"
     },
     "output_type": "display_data"
    }
   ],
   "source": [
    "comp_df_lidcombe_non_npnan.plot()"
   ]
  },
  {
   "cell_type": "markdown",
   "metadata": {},
   "source": [
    "Not much difference. Inclined to use full imputed data"
   ]
  },
  {
   "cell_type": "markdown",
   "metadata": {},
   "source": [
    "# 2. Statistical comparisons"
   ]
  },
  {
   "cell_type": "markdown",
   "metadata": {},
   "source": [
    "Comparing against what? What is a benchmark metric for say rmse?"
   ]
  },
  {
   "cell_type": "code",
   "execution_count": 25,
   "metadata": {},
   "outputs": [],
   "source": [
    "from sklearn.metrics import mean_absolute_error\n",
    "from sklearn.metrics import mean_squared_error\n"
   ]
  },
  {
   "cell_type": "code",
   "execution_count": 24,
   "metadata": {},
   "outputs": [],
   "source": [
    "'''\n",
    "Stolen from: https://github.com/rkawsar/ambhas/blob/master/ambhas/errlib.py\n",
    "\n",
    "This basically looks like a modified version of R2?\n",
    "'''\n",
    "\n",
    "def index_agreement(s, o):\n",
    "    \"\"\"\n",
    "    index of agreement\n",
    "\n",
    "    Willmott (1981, 1982) \n",
    "    input:\n",
    "        s: simulated\n",
    "        o: observed\n",
    "    output:\n",
    "        ia: index of agreement\n",
    "    \"\"\"\n",
    "    ia = 1 -(np.sum((o-s)**2))/(np.sum((np.abs(s-np.mean(o))+np.abs(o-np.mean(o)))**2))\n",
    "    return ia"
   ]
  },
  {
   "cell_type": "code",
   "execution_count": 26,
   "metadata": {},
   "outputs": [],
   "source": [
    "'''\n",
    "Function: Calculates and prints out the varoius metrics\n",
    "'''\n",
    "\n",
    "def satistical_comps_on_df(df, location):    \n",
    "    y_true = df.loc[:,'Actual PBLH'].values\n",
    "    y_pred = df.loc[:,'Predicted PBLH'].values\n",
    "    \n",
    "    #ioa = cohen_kappa_score(y_true, y_pred)\n",
    "    rmse = np.sqrt(mean_squared_error(y_true, y_pred))\n",
    "    mae = mean_absolute_error(y_true, y_pred)\n",
    "    ioa = index_agreement(y_pred, y_true)\n",
    "    \n",
    "    print('At %s\\nIndex of agreement:%.5f\\nRoot mean squared error:%.5f\\nMean absoluate error:%.5f' % (location, ioa, rmse, mae))"
   ]
  },
  {
   "cell_type": "code",
   "execution_count": 27,
   "metadata": {
    "scrolled": true
   },
   "outputs": [
    {
     "name": "stdout",
     "output_type": "stream",
     "text": [
      "At Merriwa\n",
      "Index of agreement:0.64061\n",
      "Root mean squared error:597.29548\n",
      "Mean absoluate error:415.92010\n"
     ]
    }
   ],
   "source": [
    "satistical_comps_on_df(comp_df_merriwa, 'Merriwa')"
   ]
  },
  {
   "cell_type": "code",
   "execution_count": 28,
   "metadata": {},
   "outputs": [
    {
     "name": "stdout",
     "output_type": "stream",
     "text": [
      "At Lidcombe\n",
      "Index of agreement:0.47060\n",
      "Root mean squared error:684.40913\n",
      "Mean absoluate error:540.42992\n"
     ]
    }
   ],
   "source": [
    "satistical_comps_on_df(comp_df_lidcombe, 'Lidcombe')"
   ]
  }
 ],
 "metadata": {
  "kernelspec": {
   "display_name": "Python 3",
   "language": "python",
   "name": "python3"
  },
  "language_info": {
   "codemirror_mode": {
    "name": "ipython",
    "version": 3
   },
   "file_extension": ".py",
   "mimetype": "text/x-python",
   "name": "python",
   "nbconvert_exporter": "python",
   "pygments_lexer": "ipython3",
   "version": "3.7.4"
  }
 },
 "nbformat": 4,
 "nbformat_minor": 2
}
