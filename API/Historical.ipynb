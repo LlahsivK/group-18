{
 "cells": [
  {
   "cell_type": "code",
   "execution_count": 66,
   "metadata": {},
   "outputs": [],
   "source": [
    "import os\n",
    "import sys\n",
    "import requests\n",
    "import logging\n",
    "import urllib\n",
    "import datetime as dt\n",
    "import json\n",
    "\n",
    "class aqms_api_class(object):\n",
    "    \n",
    "    def __init__(self, ):\n",
    "        #self.logger = logging.getLogger(__file__)\n",
    "        self.url_api = \"https://data.airquality.nsw.gov.au\"\n",
    "        self.headers = {'content-type' : 'application/json', 'accept' : 'application/json'}\n",
    "        self.get_observations = \"api/Data/get_Observations\"\n",
    "        return\n",
    "    \n",
    "    def get_Obs(self, ObsRequest):\n",
    "        query = urllib.parse.urljoin(self.url_api, self.get_observations)\n",
    "        response = requests.post(url = query, data = json.dumps(ObsRequest), headers = self.headers)\n",
    "        return response\n",
    "    \n",
    "    def ObsRequst_init(self, ):\n",
    "        ObsRequest = {}\n",
    "        ObsRequest['Parameters'] = ['AQI']\n",
    "        ObsRequest['Sites'] = [329]\n",
    "        StartDate = dt.date(2021, 2, 12)\n",
    "        EndDate = dt.date(2021, 2, 19)\n",
    "        ObsRequest['StartDate'] = StartDate.strftime('%Y-%m-%d')\n",
    "        ObsRequest['EndDate'] = EndDate.strftime('%Y-%m-%d')\n",
    "        ObsRequest['Categories'] = ['Site AQI']\n",
    "        ObsRequest['SubCategories'] = ['Hourly']\n",
    "        ObsRequest['Frequency'] = ['Hourly Average']\n",
    "        return ObsRequest\n",
    "\n",
    "if __name__ == '__main__':\n",
    "    AQMS = aqms_api_class()\n",
    "    ObsRequest = AQMS.ObsRequst_init()\n",
    "    AllHistoricalObs = AQMS.get_Obs(ObsRequest)\n",
    "    HistoricalObs = AllHistoricalObs.json()\n",
    "    with open('mHistoricalObsAQI.json', 'w+') as f:\n",
    "        json.dump(HistoricalObs, f)"
   ]
  },
  {
   "cell_type": "code",
   "execution_count": null,
   "metadata": {},
   "outputs": [],
   "source": []
  }
 ],
 "metadata": {
  "kernelspec": {
   "display_name": "Python 3",
   "language": "python",
   "name": "python3"
  },
  "language_info": {
   "codemirror_mode": {
    "name": "ipython",
    "version": 3
   },
   "file_extension": ".py",
   "mimetype": "text/x-python",
   "name": "python",
   "nbconvert_exporter": "python",
   "pygments_lexer": "ipython3",
   "version": "3.8.5"
  }
 },
 "nbformat": 4,
 "nbformat_minor": 4
}
